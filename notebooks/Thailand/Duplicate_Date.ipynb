{
 "cells": [
  {
   "cell_type": "code",
   "execution_count": 1,
   "metadata": {},
   "outputs": [],
   "source": [
    "import pandas as pd"
   ]
  },
  {
   "cell_type": "code",
   "execution_count": 2,
   "metadata": {},
   "outputs": [],
   "source": [
    "weather = pd.read_csv(\"Bangkok_Daily.csv\")      #read data"
   ]
  },
  {
   "cell_type": "code",
   "execution_count": 3,
   "metadata": {},
   "outputs": [],
   "source": [
    "# Normalize column names\n",
    "weather.columns = weather.columns.str.strip().str.lower()\n",
    "\n",
    "# Parse date\n",
    "weather['date'] = pd.to_datetime(weather['date'], errors='coerce')"
   ]
  },
  {
   "cell_type": "code",
   "execution_count": 4,
   "metadata": {},
   "outputs": [
    {
     "name": "stdout",
     "output_type": "stream",
     "text": [
      "Found 0 duplicate rows for 0 unique dates.\n"
     ]
    }
   ],
   "source": [
    "# Find duplicates\n",
    "dupes = weather[weather.duplicated(subset='date', keep=False)]\n",
    "print(f\"Found {len(dupes)} duplicate rows for {dupes['date'].nunique()} unique dates.\")"
   ]
  },
  {
   "cell_type": "code",
   "execution_count": 5,
   "metadata": {},
   "outputs": [
    {
     "name": "stdout",
     "output_type": "stream",
     "text": [
      "Empty DataFrame\n",
      "Columns: [date, relative_humidity_2m, temperature_2m_c, wind_speed_10m_km_h]\n",
      "Index: []\n"
     ]
    }
   ],
   "source": [
    "# Show example\n",
    "print(dupes.sort_values('date').head(10))"
   ]
  }
 ],
 "metadata": {
  "kernelspec": {
   "display_name": "base",
   "language": "python",
   "name": "python3"
  },
  "language_info": {
   "codemirror_mode": {
    "name": "ipython",
    "version": 3
   },
   "file_extension": ".py",
   "mimetype": "text/x-python",
   "name": "python",
   "nbconvert_exporter": "python",
   "pygments_lexer": "ipython3",
   "version": "3.9.16"
  },
  "orig_nbformat": 4
 },
 "nbformat": 4,
 "nbformat_minor": 2
}
