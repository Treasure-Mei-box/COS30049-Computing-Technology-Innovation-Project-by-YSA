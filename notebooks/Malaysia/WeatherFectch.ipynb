{
 "cells": [
  {
   "cell_type": "code",
   "execution_count": null,
   "metadata": {
    "colab": {
     "base_uri": "https://localhost:8080/"
    },
    "executionInfo": {
     "elapsed": 200,
     "status": "ok",
     "timestamp": 1760189385612,
     "user": {
      "displayName": "Yadanar Theint",
      "userId": "06229744448263539598"
     },
     "user_tz": -480
    },
    "id": "iFyQgZmJcmUX",
    "outputId": "33b84e2d-48fc-4c6e-efe7-f513aff2d88a"
   },
   "outputs": [
    {
     "name": "stdout",
     "output_type": "stream",
     "text": [
      "✅ Saved with date column included:\n",
      "        time  tavg  tmin  tmax  prcp  snow  wdir  wspd  wpgt  pres  tsun  \\\n",
      "0 2014-01-01  28.1  24.9  32.9  <NA>  <NA>  <NA>  11.2  <NA>  <NA>  <NA>   \n",
      "1 2014-01-02  28.7  24.9  33.1  <NA>  <NA>  <NA>  11.1  <NA>  <NA>  <NA>   \n",
      "2 2014-01-03  26.8  23.9  31.9  <NA>  <NA>  <NA>  10.3  <NA>  <NA>  <NA>   \n",
      "3 2014-01-04  25.5  23.5  30.9  <NA>  <NA>  <NA>   5.0  <NA>  <NA>  <NA>   \n",
      "4 2014-01-05  26.6  23.9  30.9  <NA>  <NA>  <NA>   4.5  <NA>  <NA>  <NA>   \n",
      "\n",
      "        city  \n",
      "0  Putrajaya  \n",
      "1  Putrajaya  \n",
      "2  Putrajaya  \n",
      "3  Putrajaya  \n",
      "4  Putrajaya  \n",
      "📂 File: /content/drive/MyDrive/Putrajaya_weather_2014_2024.csv\n"
     ]
    }
   ],
   "source": [
    "from datetime import datetime\n",
    "import pandas as pd\n",
    "from meteostat import Point, Daily\n",
    "\n",
    "# Time range\n",
    "start = datetime(2014, 1, 1)\n",
    "end = datetime(2024, 12, 31)\n",
    "\n",
    "# Putrajaya coordinates\n",
    "putrajaya = Point(2.9353, 101.6911, 35)\n",
    "\n",
    "# Fetch daily data\n",
    "data = Daily(putrajaya, start, end).fetch()\n",
    "\n",
    "# Reset index so the date becomes a column\n",
    "data = data.reset_index()\n",
    "\n",
    "# Add city name column\n",
    "data['city'] = 'Putrajaya'\n",
    "\n",
    "# Save to CSV in \n",
    "file_path = \"/content/drive/MyDrive/Putrajaya_weather_2014_2024.csv\"\n",
    "data.to_csv(file_path, index=False)\n",
    "\n",
    "print(\"Saved with date column included:\")\n",
    "print(data.head())\n",
    "print(f\"📂 File: {file_path}\")\n"
   ]
  },
  {
   "cell_type": "code",
   "execution_count": null,
   "metadata": {
    "colab": {
     "base_uri": "https://localhost:8080/"
    },
    "executionInfo": {
     "elapsed": 505,
     "status": "ok",
     "timestamp": 1760189764857,
     "user": {
      "displayName": "Yadanar Theint",
      "userId": "06229744448263539598"
     },
     "user_tz": -480
    },
    "id": "w4vyyRFFelwf",
    "outputId": "5cece231-ef26-43dd-f046-1c87858a514e"
   },
   "outputs": [
    {
     "name": "stdout",
     "output_type": "stream",
     "text": [
      "✅ Saved with date column included:\n",
      "        time  tavg  tmin  tmax  prcp  snow  wdir  wspd  wpgt  pres  tsun  \\\n",
      "0 2014-01-01  28.6  25.9  32.0  <NA>  <NA>  <NA>  10.1  <NA>  <NA>  <NA>   \n",
      "1 2014-01-02  29.1  26.4  33.0  <NA>  <NA>  <NA>   8.5  <NA>  <NA>  <NA>   \n",
      "2 2014-01-03  27.6  25.6  31.0  <NA>  <NA>  <NA>  10.4  <NA>  <NA>  <NA>   \n",
      "3 2014-01-04  27.8  24.0  32.0  <NA>  <NA>  <NA>   7.0  <NA>  <NA>  <NA>   \n",
      "4 2014-01-05  28.0  25.0  31.3  <NA>  <NA>  <NA>   7.8  <NA>  <NA>  <NA>   \n",
      "\n",
      "         city  \n",
      "0  GeorgeTown  \n",
      "1  GeorgeTown  \n",
      "2  GeorgeTown  \n",
      "3  GeorgeTown  \n",
      "4  GeorgeTown  \n",
      "📂 File: /content/drive/MyDrive/Weather/PulauPinang.csv\n"
     ]
    }
   ],
   "source": [
    "from datetime import datetime\n",
    "import pandas as pd\n",
    "from meteostat import Point, Daily\n",
    "\n",
    "# Time range\n",
    "start = datetime(2014, 1, 1)\n",
    "end = datetime(2024, 12, 31)\n",
    "\n",
    "# GeorgeTown coordinates\n",
    "GeorgeTown = Point(5.4141, 100.3288, 10)\n",
    "\n",
    "# Fetch daily data\n",
    "data = Daily(GeorgeTown, start, end).fetch()\n",
    "\n",
    "# Reset index so the date becomes a column\n",
    "data = data.reset_index()\n",
    "\n",
    "# Add city name column\n",
    "data['city'] = 'GeorgeTown'\n",
    "\n",
    "# Save to CSV in \n",
    "file_path = \"../../data/malaysia/clean/weather/WeahPulauPinang.csv\"\n",
    "data.to_csv(file_path, index=False)\n",
    "\n",
    "print(\"Saved with date column included:\")\n",
    "print(data.head())\n",
    "print(f\"📂 File: {file_path}\")\n"
   ]
  },
  {
   "cell_type": "code",
   "execution_count": null,
   "metadata": {
    "colab": {
     "base_uri": "https://localhost:8080/"
    },
    "executionInfo": {
     "elapsed": 484,
     "status": "ok",
     "timestamp": 1760189940776,
     "user": {
      "displayName": "Yadanar Theint",
      "userId": "06229744448263539598"
     },
     "user_tz": -480
    },
    "id": "ebuCkygQfa9x",
    "outputId": "6ec60c66-3c2b-4d07-d3b1-3731a27a0c6f"
   },
   "outputs": [
    {
     "name": "stdout",
     "output_type": "stream",
     "text": [
      "✅ Saved with date column included:\n",
      "        time  tavg  tmin  tmax  prcp  snow  wdir  wspd  wpgt  pres  tsun  \\\n",
      "0 2014-01-01  26.2  23.0  30.0  13.5  <NA>  <NA>   6.7  <NA>  <NA>  <NA>   \n",
      "1 2014-01-02  26.8  24.0  31.0  <NA>  <NA>  <NA>   8.7  <NA>  <NA>  <NA>   \n",
      "2 2014-01-03  26.5  23.0  30.0   0.0  <NA>  <NA>   7.2  <NA>  <NA>  <NA>   \n",
      "3 2014-01-04  25.9  23.0  31.0   0.0  <NA>  <NA>   5.1  <NA>  <NA>  <NA>   \n",
      "4 2014-01-05  24.5  23.0  26.0  15.5  <NA>  <NA>   6.5  <NA>  <NA>  <NA>   \n",
      "\n",
      "         city  \n",
      "0  JohorBahru  \n",
      "1  JohorBahru  \n",
      "2  JohorBahru  \n",
      "3  JohorBahru  \n",
      "4  JohorBahru  \n",
      "📂 File: /content/drive/MyDrive/Weather/JohorBahru.csv\n"
     ]
    }
   ],
   "source": [
    "from datetime import datetime\n",
    "import pandas as pd\n",
    "from meteostat import Point, Daily\n",
    "\n",
    "# Time range\n",
    "start = datetime(2014, 1, 1)\n",
    "end = datetime(2024, 12, 31)\n",
    "\n",
    "# JohorBahru coordinates\n",
    "JohorBahru = Point(1.4927, 103.7414, 36)\n",
    "\n",
    "\n",
    "# Fetch daily data\n",
    "data = Daily(JohorBahru, start, end).fetch()\n",
    "\n",
    "# Reset index so the date becomes a column\n",
    "data = data.reset_index()\n",
    "\n",
    "# Add city name column\n",
    "data['city'] = 'JohorBahru'\n",
    "\n",
    "# Save to CSV in \n",
    "file_path = \"../../data/malaysia/clean/weather/JohorBahru.csv\"\n",
    "data.to_csv(file_path, index=False)\n",
    "\n",
    "print(\"Saved with date column included:\")\n",
    "print(data.head())\n",
    "print(f\"📂 File: {file_path}\")\n"
   ]
  },
  {
   "cell_type": "code",
   "execution_count": null,
   "metadata": {
    "colab": {
     "base_uri": "https://localhost:8080/"
    },
    "executionInfo": {
     "elapsed": 183,
     "status": "ok",
     "timestamp": 1760190000371,
     "user": {
      "displayName": "Yadanar Theint",
      "userId": "06229744448263539598"
     },
     "user_tz": -480
    },
    "id": "xsSwIqruf0bc",
    "outputId": "07d56c84-727e-4d3c-8d9a-82d362eea2d8"
   },
   "outputs": [
    {
     "name": "stdout",
     "output_type": "stream",
     "text": [
      "✅ Saved with date column included:\n",
      "        time  tavg  tmin  tmax  prcp  snow  wdir  wspd  wpgt  pres  tsun  \\\n",
      "0 2014-01-01  26.6  23.0  32.0  <NA>  <NA>  <NA>   6.7  <NA>  <NA>  <NA>   \n",
      "1 2014-01-02  26.6  24.0  32.0  <NA>  <NA>  <NA>   7.0  <NA>  <NA>  <NA>   \n",
      "2 2014-01-03  26.2  24.0  32.0  <NA>  <NA>  <NA>   6.2  <NA>  <NA>  <NA>   \n",
      "3 2014-01-04  27.1  23.0  31.3  <NA>  <NA>  <NA>   7.5  <NA>  <NA>  <NA>   \n",
      "4 2014-01-05  26.1  23.9  31.2  <NA>  <NA>  <NA>   6.3  <NA>  <NA>  <NA>   \n",
      "\n",
      "           city  \n",
      "0  KotaKinabalu  \n",
      "1  KotaKinabalu  \n",
      "2  KotaKinabalu  \n",
      "3  KotaKinabalu  \n",
      "4  KotaKinabalu  \n",
      "📂 File: /content/drive/MyDrive/Weather/KotaKinabalu.csv\n"
     ]
    }
   ],
   "source": [
    "from datetime import datetime\n",
    "import pandas as pd\n",
    "from meteostat import Point, Daily\n",
    "\n",
    "# Time range\n",
    "start = datetime(2014, 1, 1)\n",
    "end = datetime(2024, 12, 31)\n",
    "\n",
    "# KotaKinabalu coordinates\n",
    "KotaKinabalu = Point(5.9804, 116.0735, 10)\n",
    "\n",
    "# Fetch daily data\n",
    "data = Daily(KotaKinabalu, start, end).fetch()\n",
    "\n",
    "# Reset index so the date becomes a column\n",
    "data = data.reset_index()\n",
    "\n",
    "# Add city name column\n",
    "data['city'] = 'KotaKinabalu'\n",
    "\n",
    "# Save to CSV in \n",
    "file_path = \"../../data/malaysia/clean/weather/KotaKinabalu.csv\"\n",
    "data.to_csv(file_path, index=False)\n",
    "\n",
    "print(\"Saved with date column included:\")\n",
    "print(data.head())\n",
    "print(f\"📂 File: {file_path}\")\n"
   ]
  },
  {
   "cell_type": "code",
   "execution_count": null,
   "metadata": {
    "colab": {
     "base_uri": "https://localhost:8080/"
    },
    "executionInfo": {
     "elapsed": 276,
     "status": "ok",
     "timestamp": 1760190059754,
     "user": {
      "displayName": "Yadanar Theint",
      "userId": "06229744448263539598"
     },
     "user_tz": -480
    },
    "id": "amRBXrB0gCkS",
    "outputId": "08e1f459-fd2f-4c67-9be5-0b1fa17a4eeb"
   },
   "outputs": [
    {
     "name": "stdout",
     "output_type": "stream",
     "text": [
      "✅ Saved with date column included:\n",
      "        time  tavg  tmin  tmax  prcp  snow  wdir  wspd  wpgt  pres  tsun  \\\n",
      "0 2014-01-01  25.2  23.4  29.0  <NA>  <NA>  <NA>   9.9  <NA>  <NA>  <NA>   \n",
      "1 2014-01-02  24.8  22.6  29.0  <NA>  <NA>  <NA>   6.1  <NA>  <NA>  <NA>   \n",
      "2 2014-01-03  25.7  23.0  30.0  <NA>  <NA>  <NA>   7.8  <NA>  <NA>  <NA>   \n",
      "3 2014-01-04  25.8  23.0  30.7  <NA>  <NA>  <NA>   6.7  <NA>  <NA>  <NA>   \n",
      "4 2014-01-05  24.2  22.7  29.0  <NA>  <NA>  <NA>   5.9  <NA>  <NA>  <NA>   \n",
      "\n",
      "      city  \n",
      "0  Kuching  \n",
      "1  Kuching  \n",
      "2  Kuching  \n",
      "3  Kuching  \n",
      "4  Kuching  \n",
      "📂 File: /content/drive/MyDrive/Weather/Kuching.csv\n"
     ]
    }
   ],
   "source": [
    "from datetime import datetime\n",
    "import pandas as pd\n",
    "from meteostat import Point, Daily\n",
    "\n",
    "# Time range\n",
    "start = datetime(2014, 1, 1)\n",
    "end = datetime(2024, 12, 31)\n",
    "\n",
    "# Kuching coordinates\n",
    "Kuching = Point(1.5533, 110.3592, 27)\n",
    "\n",
    "# Fetch daily data\n",
    "data = Daily(Kuching, start, end).fetch()\n",
    "\n",
    "# Reset index so the date becomes a column\n",
    "data = data.reset_index()\n",
    "\n",
    "# Add city name column\n",
    "data['city'] = 'Kuching'\n",
    "\n",
    "# Save to CSV in \n",
    "file_path = \"../../data/malaysia/clean/weather/Kuching.csv\"\n",
    "data.to_csv(file_path, index=False)\n",
    "\n",
    "print(\"Saved with date column included:\")\n",
    "print(data.head())\n",
    "print(f\"📂 File: {file_path}\")\n"
   ]
  },
  {
   "cell_type": "code",
   "execution_count": null,
   "metadata": {
    "colab": {
     "base_uri": "https://localhost:8080/"
    },
    "executionInfo": {
     "elapsed": 229,
     "status": "ok",
     "timestamp": 1760190321164,
     "user": {
      "displayName": "Yadanar Theint",
      "userId": "06229744448263539598"
     },
     "user_tz": -480
    },
    "id": "ehenF4EugYx8",
    "outputId": "cdb5e862-c685-4ce7-a161-69a98ea25034"
   },
   "outputs": [
    {
     "name": "stdout",
     "output_type": "stream",
     "text": [
      "✅ Saved with date column included:\n",
      "        time  tavg  tmin  tmax  prcp  snow  wdir  wspd  wpgt  pres  tsun  \\\n",
      "0 2014-01-01  27.0  23.0  31.6  <NA>  <NA>  <NA>  15.1  <NA>  <NA>  <NA>   \n",
      "1 2014-01-02  27.9  24.0  33.0  <NA>  <NA>  <NA>  16.0  <NA>  <NA>  <NA>   \n",
      "2 2014-01-03  26.5  24.0  30.9  <NA>  <NA>  <NA>   9.5  <NA>  <NA>  <NA>   \n",
      "3 2014-01-04  25.5  23.7  30.0  <NA>  <NA>  <NA>   5.0  <NA>  <NA>  <NA>   \n",
      "4 2014-01-05  26.1  23.9  29.4  <NA>  <NA>  <NA>   6.0  <NA>  <NA>  <NA>   \n",
      "\n",
      "     city  \n",
      "0  Melaka  \n",
      "1  Melaka  \n",
      "2  Melaka  \n",
      "3  Melaka  \n",
      "4  Melaka  \n",
      "📂 File: /content/drive/MyDrive/Weather/Melaka.csv\n"
     ]
    }
   ],
   "source": [
    "from datetime import datetime\n",
    "import pandas as pd\n",
    "from meteostat import Point, Daily\n",
    "\n",
    "# Time range\n",
    "start = datetime(2014, 1, 1)\n",
    "end = datetime(2024, 12, 31)\n",
    "\n",
    "# Melaka coordinates\n",
    "Melaka = Point(2.1896, 102.2501, 8)\n",
    "\n",
    "# Fetch daily data\n",
    "data = Daily(Melaka, start, end).fetch()\n",
    "\n",
    "# Reset index so the date becomes a column\n",
    "data = data.reset_index()\n",
    "\n",
    "# Add city name column\n",
    "data['city'] = 'Melaka'\n",
    "\n",
    "# Save to CSV in \n",
    "file_path = \"../../data/malaysia/clean/weather/Melaka.csv\"\n",
    "data.to_csv(file_path, index=False)\n",
    "\n",
    "print(\"Saved with date column included:\")\n",
    "print(data.head())\n",
    "print(f\"📂 File: {file_path}\")\n"
   ]
  },
  {
   "cell_type": "code",
   "execution_count": null,
   "metadata": {
    "colab": {
     "base_uri": "https://localhost:8080/"
    },
    "executionInfo": {
     "elapsed": 2097,
     "status": "ok",
     "timestamp": 1760190468733,
     "user": {
      "displayName": "Yadanar Theint",
      "userId": "06229744448263539598"
     },
     "user_tz": -480
    },
    "id": "lYQax46yhkEZ",
    "outputId": "2f8c77c0-0024-4863-dc4f-6e8f477a738e"
   },
   "outputs": [
    {
     "name": "stdout",
     "output_type": "stream",
     "text": [
      "✅ Saved with date column included:\n",
      "        time  tavg  tmin  tmax  prcp  snow  wdir  wspd  wpgt  pres  tsun  \\\n",
      "0 2014-01-01  27.8  25.0  32.0  <NA>  <NA>  <NA>  10.1  <NA>  <NA>  <NA>   \n",
      "1 2014-01-02  28.0  24.0  33.0  <NA>  <NA>  <NA>   8.8  <NA>  <NA>  <NA>   \n",
      "2 2014-01-03  26.8  24.0  31.0  <NA>  <NA>  <NA>   5.1  <NA>  <NA>  <NA>   \n",
      "3 2014-01-04  26.7  23.0  31.0  <NA>  <NA>  <NA>   4.6  <NA>  <NA>  <NA>   \n",
      "4 2014-01-05  27.4  23.0  33.0  <NA>  <NA>  <NA>   7.4  <NA>  <NA>  <NA>   \n",
      "\n",
      "        city  \n",
      "0  AlorSetar  \n",
      "1  AlorSetar  \n",
      "2  AlorSetar  \n",
      "3  AlorSetar  \n",
      "4  AlorSetar  \n",
      "📂 File: /content/drive/MyDrive/Weather/AlorSetar.csv\n"
     ]
    }
   ],
   "source": [
    "from datetime import datetime\n",
    "import pandas as pd\n",
    "from meteostat import Point, Daily\n",
    "\n",
    "# Time range\n",
    "start = datetime(2014, 1, 1)\n",
    "end = datetime(2024, 12, 31)\n",
    "\n",
    "# AlorSetar coordinates\n",
    "AlorSetar = Point(6.1210, 100.3600, 6)\n",
    "\n",
    "# Fetch daily data\n",
    "data = Daily(AlorSetar, start, end).fetch()\n",
    "\n",
    "# Reset index so the date becomes a column\n",
    "data = data.reset_index()\n",
    "\n",
    "# Add city name column\n",
    "data['city'] = 'AlorSetar'\n",
    "\n",
    "# Save to CSV in \n",
    "file_path = \"../../data/malaysia/clean/weather/AlorSetar.csv\"\n",
    "data.to_csv(file_path, index=False)\n",
    "\n",
    "print(\"Saved with date column included:\")\n",
    "print(data.head())\n",
    "print(f\"📂 File: {file_path}\")\n"
   ]
  },
  {
   "cell_type": "code",
   "execution_count": null,
   "metadata": {
    "colab": {
     "base_uri": "https://localhost:8080/"
    },
    "executionInfo": {
     "elapsed": 2238,
     "status": "ok",
     "timestamp": 1760190541535,
     "user": {
      "displayName": "Yadanar Theint",
      "userId": "06229744448263539598"
     },
     "user_tz": -480
    },
    "id": "2TeL5RO3h3Jj",
    "outputId": "b6d7b5b4-95f7-44fe-dff4-2b5968f98add"
   },
   "outputs": [
    {
     "name": "stdout",
     "output_type": "stream",
     "text": [
      "✅ Saved with date column included:\n",
      "        time  tavg  tmin  tmax  prcp  snow  wdir  wspd  wpgt  pres  tsun  \\\n",
      "0 2014-01-01  26.2  25.0  28.0  <NA>  <NA>  <NA>  16.2  <NA>  <NA>  <NA>   \n",
      "1 2014-01-02  26.7  25.6  28.0  <NA>  <NA>  <NA>  14.0  <NA>  <NA>  <NA>   \n",
      "2 2014-01-03  26.7  24.8  29.0  <NA>  <NA>  <NA>   8.0  <NA>  <NA>  <NA>   \n",
      "3 2014-01-04  26.3  23.0  30.0  <NA>  <NA>  <NA>   6.4  <NA>  <NA>  <NA>   \n",
      "4 2014-01-05  26.2  24.0  29.0  <NA>  <NA>  <NA>  10.5  <NA>  <NA>  <NA>   \n",
      "\n",
      "        city  \n",
      "0  KotaBharu  \n",
      "1  KotaBharu  \n",
      "2  KotaBharu  \n",
      "3  KotaBharu  \n",
      "4  KotaBharu  \n",
      "📂 File: /content/drive/MyDrive/Weather/KotaBharu.csv\n"
     ]
    }
   ],
   "source": [
    "from datetime import datetime\n",
    "import pandas as pd\n",
    "from meteostat import Point, Daily\n",
    "\n",
    "# Time range\n",
    "start = datetime(2014, 1, 1)\n",
    "end = datetime(2024, 12, 31)\n",
    "\n",
    "# KotaBharu coordinates\n",
    "KotaBharu = Point(6.1254, 102.2386, 5)\n",
    "\n",
    "# Fetch daily data\n",
    "data = Daily(KotaBharu, start, end).fetch()\n",
    "\n",
    "# Reset index so the date becomes a column\n",
    "data = data.reset_index()\n",
    "\n",
    "# Add city name column\n",
    "data['city'] = 'KotaBharu'\n",
    "\n",
    "# Save to CSV in \n",
    "file_path = \"../../data/malaysia/clean/weather/KotaBharu.csv\"\n",
    "data.to_csv(file_path, index=False)\n",
    "\n",
    "print(\"Saved with date column included:\")\n",
    "print(data.head())\n",
    "print(f\"📂 File: {file_path}\")\n"
   ]
  },
  {
   "cell_type": "code",
   "execution_count": null,
   "metadata": {
    "colab": {
     "base_uri": "https://localhost:8080/"
    },
    "executionInfo": {
     "elapsed": 2376,
     "status": "ok",
     "timestamp": 1760190613764,
     "user": {
      "displayName": "Yadanar Theint",
      "userId": "06229744448263539598"
     },
     "user_tz": -480
    },
    "id": "aa0o2-i2iJt9",
    "outputId": "c3c37ae1-a76a-4d93-894f-d4f03e50ac26"
   },
   "outputs": [
    {
     "name": "stdout",
     "output_type": "stream",
     "text": [
      "✅ Saved with date column included:\n",
      "        time  tavg  tmin  tmax  prcp  snow  wdir  wspd  wpgt  pres  tsun  \\\n",
      "0 2014-01-01  26.5  25.0  29.0  <NA>  <NA>  <NA>  12.7  <NA>  <NA>  <NA>   \n",
      "1 2014-01-02  26.5  25.0  28.0  <NA>  <NA>  <NA>  11.3  <NA>  <NA>  <NA>   \n",
      "2 2014-01-03  27.2  25.0  29.0  <NA>  <NA>  <NA>  10.5  <NA>  <NA>  <NA>   \n",
      "3 2014-01-04  26.7  24.0  30.0  <NA>  <NA>  <NA>   8.9  <NA>  <NA>  <NA>   \n",
      "4 2014-01-05  27.3  26.0  29.0  <NA>  <NA>  <NA>  10.9  <NA>  <NA>  <NA>   \n",
      "\n",
      "              city  \n",
      "0  KualaTerengganu  \n",
      "1  KualaTerengganu  \n",
      "2  KualaTerengganu  \n",
      "3  KualaTerengganu  \n",
      "4  KualaTerengganu  \n",
      "📂 File: /content/drive/MyDrive/Weather/KualaTerengganu.csv\n"
     ]
    }
   ],
   "source": [
    "from datetime import datetime\n",
    "import pandas as pd\n",
    "from meteostat import Point, Daily\n",
    "\n",
    "# Time range\n",
    "start = datetime(2014, 1, 1)\n",
    "end = datetime(2024, 12, 31)\n",
    "\n",
    "# KualaTerengganu coordinates\n",
    "KualaTerengganu = Point(5.3290, 103.1369, 6)\n",
    "\n",
    "# Fetch daily data\n",
    "data = Daily(KualaTerengganu, start, end).fetch()\n",
    "\n",
    "# Reset index so the date becomes a column\n",
    "data = data.reset_index()\n",
    "\n",
    "# Add city name column\n",
    "data['city'] = 'KualaTerengganu'\n",
    "\n",
    "# Save to CSV in \n",
    "file_path = \"../../data/malaysia/clean/weather/KualaTerengganu.csv\"\n",
    "data.to_csv(file_path, index=False)\n",
    "\n",
    "print(\"Saved with date column included:\")\n",
    "print(data.head())\n",
    "print(f\"📂 File: {file_path}\")\n"
   ]
  },
  {
   "cell_type": "code",
   "execution_count": null,
   "metadata": {
    "colab": {
     "base_uri": "https://localhost:8080/"
    },
    "executionInfo": {
     "elapsed": 2064,
     "status": "ok",
     "timestamp": 1760190695473,
     "user": {
      "displayName": "Yadanar Theint",
      "userId": "06229744448263539598"
     },
     "user_tz": -480
    },
    "id": "ARqcIt4iiZ0x",
    "outputId": "1a535891-cf8c-42d0-90e0-a951e95fd48d"
   },
   "outputs": [
    {
     "name": "stdout",
     "output_type": "stream",
     "text": [
      "✅ Saved with date column included:\n",
      "        time  tavg  tmin  tmax  prcp  snow  wdir  wspd  wpgt  pres  tsun  \\\n",
      "0 2014-01-01  28.4  26.1  31.1  <NA>  <NA>  <NA>   6.2  <NA>  <NA>  <NA>   \n",
      "1 2014-01-02  27.6  24.1  31.1  <NA>  <NA>  <NA>   5.3  <NA>  <NA>  <NA>   \n",
      "2 2014-01-03  26.9  24.1  30.1  <NA>  <NA>  <NA>   2.3  <NA>  <NA>  <NA>   \n",
      "3 2014-01-04  27.0  23.1  30.1  <NA>  <NA>  <NA>   3.2  <NA>  <NA>  <NA>   \n",
      "4 2014-01-05  26.8  23.1  31.1  <NA>  <NA>  <NA>   5.5  <NA>  <NA>  <NA>   \n",
      "\n",
      "     city  \n",
      "0  Labuan  \n",
      "1  Labuan  \n",
      "2  Labuan  \n",
      "3  Labuan  \n",
      "4  Labuan  \n",
      "📂 File: /content/drive/MyDrive/Weather/Labuan.csv\n"
     ]
    }
   ],
   "source": [
    "from datetime import datetime\n",
    "import pandas as pd\n",
    "from meteostat import Point, Daily\n",
    "\n",
    "# Time range\n",
    "start = datetime(2014, 1, 1)\n",
    "end = datetime(2024, 12, 31)\n",
    "\n",
    "# Labuan coordinates\n",
    "Labuan = Point(5.2831, 115.2308, 20)\n",
    "\n",
    "# Fetch daily data\n",
    "data = Daily(Labuan, start, end).fetch()\n",
    "\n",
    "# Reset index so the date becomes a column\n",
    "data = data.reset_index()\n",
    "\n",
    "# Add city name column\n",
    "data['city'] = 'Labuan'\n",
    "\n",
    "# Save to CSV in \n",
    "file_path = \"../../data/malaysia/clean/weather/Labuan.csv\"\n",
    "data.to_csv(file_path, index=False)\n",
    "\n",
    "print(\"Saved with date column included:\")\n",
    "print(data.head())\n",
    "print(f\"📂 File: {file_path}\")\n"
   ]
  },
  {
   "cell_type": "code",
   "execution_count": null,
   "metadata": {
    "colab": {
     "base_uri": "https://localhost:8080/"
    },
    "executionInfo": {
     "elapsed": 2471,
     "status": "ok",
     "timestamp": 1760190844050,
     "user": {
      "displayName": "Yadanar Theint",
      "userId": "06229744448263539598"
     },
     "user_tz": -480
    },
    "id": "eMN4VGG0i8io",
    "outputId": "d90f7f3c-e2e1-440a-c1b8-69cd65e9b61f"
   },
   "outputs": [
    {
     "name": "stdout",
     "output_type": "stream",
     "text": [
      "✅ Saved with date column included:\n",
      "        time  tavg  tmin  tmax  prcp  snow  wdir  wspd  wpgt  pres  tsun  \\\n",
      "0 2014-01-01  27.2  24.0  31.0  <NA>  <NA>  <NA>   9.2  <NA>  <NA>  <NA>   \n",
      "1 2014-01-02  26.1  23.9  30.0  <NA>  <NA>  <NA>   5.7  <NA>  <NA>  <NA>   \n",
      "2 2014-01-03  26.7  23.7  30.0  <NA>  <NA>  <NA>   7.2  <NA>  <NA>  <NA>   \n",
      "3 2014-01-04  27.6  24.9  31.0  <NA>  <NA>  <NA>  10.2  <NA>  <NA>  <NA>   \n",
      "4 2014-01-05  26.1  23.9  29.0  <NA>  <NA>  <NA>   6.0  <NA>  <NA>  <NA>   \n",
      "\n",
      "       city  \n",
      "0  Sandakan  \n",
      "1  Sandakan  \n",
      "2  Sandakan  \n",
      "3  Sandakan  \n",
      "4  Sandakan  \n",
      "📂 File: /content/drive/MyDrive/Weather/Sandakan.csv\n"
     ]
    }
   ],
   "source": [
    "from datetime import datetime\n",
    "import pandas as pd\n",
    "from meteostat import Point, Daily\n",
    "\n",
    "# Time range\n",
    "start = datetime(2014, 1, 1)\n",
    "end = datetime(2024, 12, 31)\n",
    "\n",
    "# Sandakan coordinates\n",
    "Sandakan = Point(5.8380, 118.1173, 15)\n",
    "\n",
    "# Fetch daily data\n",
    "data = Daily(Sandakan, start, end).fetch()\n",
    "\n",
    "# Reset index so the date becomes a column\n",
    "data = data.reset_index()\n",
    "\n",
    "# Add city name column\n",
    "data['city'] = 'Sandakan'\n",
    "\n",
    "# Save to CSV in \n",
    "file_path = \"../../data/malaysia/clean/weather/Sandakan.csv\"\n",
    "data.to_csv(file_path, index=False)\n",
    "\n",
    "print(\"Saved with date column included:\")\n",
    "print(data.head())\n",
    "print(f\"📂 File: {file_path}\")\n"
   ]
  },
  {
   "cell_type": "code",
   "execution_count": null,
   "metadata": {
    "colab": {
     "base_uri": "https://localhost:8080/"
    },
    "executionInfo": {
     "elapsed": 2361,
     "status": "ok",
     "timestamp": 1760190910604,
     "user": {
      "displayName": "Yadanar Theint",
      "userId": "06229744448263539598"
     },
     "user_tz": -480
    },
    "id": "g3oRRwMbjS0i",
    "outputId": "1587d299-fb7f-4561-ae6d-cb6385800710"
   },
   "outputs": [
    {
     "name": "stdout",
     "output_type": "stream",
     "text": [
      "✅ Saved with date column included:\n",
      "        time  tavg  tmin  tmax  prcp  snow  wdir  wspd  wpgt  pres  tsun  city\n",
      "0 2014-01-01  27.0  23.6  31.0  <NA>  <NA>  <NA>   6.7  <NA>  <NA>  <NA>  Miri\n",
      "1 2014-01-02  26.8  24.0  30.0  <NA>  <NA>  <NA>   8.7  <NA>  <NA>  <NA>  Miri\n",
      "2 2014-01-03  27.0  24.8  30.0  <NA>  <NA>  <NA>   6.8  <NA>  <NA>  <NA>  Miri\n",
      "3 2014-01-04  25.6  23.0  29.0  <NA>  <NA>  <NA>   4.6  <NA>  <NA>  <NA>  Miri\n",
      "4 2014-01-05  26.4  24.0  31.0  <NA>  <NA>  <NA>   8.4  <NA>  <NA>  <NA>  Miri\n",
      "📂 File: /content/drive/MyDrive/Weather/Miri.csv\n"
     ]
    }
   ],
   "source": [
    "from datetime import datetime\n",
    "import pandas as pd\n",
    "from meteostat import Point, Daily\n",
    "\n",
    "# Time range\n",
    "start = datetime(2014, 1, 1)\n",
    "end = datetime(2024, 12, 31)\n",
    "\n",
    "# Miri coordinates\n",
    "Miri = Point(4.3990, 113.9910, 18)\n",
    "\n",
    "# Fetch daily data\n",
    "data = Daily(Miri, start, end).fetch()\n",
    "\n",
    "# Reset index so the date becomes a column\n",
    "data = data.reset_index()\n",
    "\n",
    "# Add city name column\n",
    "data['city'] = 'Miri'\n",
    "\n",
    "# Save to CSV in \n",
    "file_path = \"../../data/malaysia/clean/weather/Miri.csv\"\n",
    "data.to_csv(file_path, index=False)\n",
    "\n",
    "print(\"Saved with date column included:\")\n",
    "print(data.head())\n",
    "print(f\"📂 File: {file_path}\")\n"
   ]
  },
  {
   "cell_type": "code",
   "execution_count": null,
   "metadata": {
    "colab": {
     "base_uri": "https://localhost:8080/"
    },
    "executionInfo": {
     "elapsed": 4863,
     "status": "ok",
     "timestamp": 1760190993146,
     "user": {
      "displayName": "Yadanar Theint",
      "userId": "06229744448263539598"
     },
     "user_tz": -480
    },
    "id": "FPq2KuH_jjTc",
    "outputId": "5dc7c41b-eaae-4c3f-ad5d-166c907452e1"
   },
   "outputs": [
    {
     "name": "stdout",
     "output_type": "stream",
     "text": [
      "✅ Saved with date column included:\n",
      "        time  tavg  tmin  tmax  prcp  snow  wdir  wspd  wpgt  pres  tsun  city\n",
      "0 2014-01-01  25.4  23.9  29.1  <NA>  <NA>  <NA>   4.6  <NA>  <NA>  <NA>  Sibu\n",
      "1 2014-01-02  25.3  22.9  29.9  <NA>  <NA>  <NA>   4.6  <NA>  <NA>  <NA>  Sibu\n",
      "2 2014-01-03  25.7  22.9  31.9  <NA>  <NA>  <NA>   4.0  <NA>  <NA>  <NA>  Sibu\n",
      "3 2014-01-04  25.7  23.9  31.1  <NA>  <NA>  <NA>   5.5  <NA>  <NA>  <NA>  Sibu\n",
      "4 2014-01-05  24.7  21.5  30.9  <NA>  <NA>  <NA>   6.1  <NA>  <NA>  <NA>  Sibu\n",
      "📂 File: /content/drive/MyDrive/Weather/Sibu.csv\n"
     ]
    }
   ],
   "source": [
    "from datetime import datetime\n",
    "import pandas as pd\n",
    "from meteostat import Point, Daily\n",
    "\n",
    "# Time range\n",
    "start = datetime(2014, 1, 1)\n",
    "end = datetime(2024, 12, 31)\n",
    "\n",
    "# Sibu coordinates\n",
    "Sibu = Point(2.2877, 111.8300, 29)\n",
    "\n",
    "# Fetch daily data\n",
    "data = Daily(Sibu, start, end).fetch()\n",
    "\n",
    "# Reset index so the date becomes a column\n",
    "data = data.reset_index()\n",
    "\n",
    "# Add city name column\n",
    "data['city'] = 'Sibu'\n",
    "\n",
    "# Save to CSV in \n",
    "file_path = \"../../data/malaysia/clean/weather/Sibu.csv\"\n",
    "data.to_csv(file_path, index=False)\n",
    "\n",
    "print(\"Saved with date column included:\")\n",
    "print(data.head())\n",
    "print(f\"📂 File: {file_path}\")\n"
   ]
  },
  {
   "cell_type": "code",
   "execution_count": null,
   "metadata": {
    "colab": {
     "base_uri": "https://localhost:8080/"
    },
    "executionInfo": {
     "elapsed": 2587,
     "status": "ok",
     "timestamp": 1760191083994,
     "user": {
      "displayName": "Yadanar Theint",
      "userId": "06229744448263539598"
     },
     "user_tz": -480
    },
    "id": "z2GiCie6j87w",
    "outputId": "bd882cab-4bb9-488a-d11e-7cfc7856f219"
   },
   "outputs": [
    {
     "name": "stdout",
     "output_type": "stream",
     "text": [
      "✅ Saved with date column included:\n",
      "        time  tavg  tmin  tmax  prcp  snow  wdir  wspd  wpgt  pres  tsun  \\\n",
      "0 2014-01-01  28.7  26.0  33.0  <NA>  <NA>  <NA>  12.0  <NA>  <NA>  <NA>   \n",
      "1 2014-01-02  29.4  27.0  33.0  <NA>  <NA>  <NA>  11.6  <NA>  <NA>  <NA>   \n",
      "2 2014-01-03  27.5  26.0  32.0  <NA>  <NA>  <NA>   6.7  <NA>  <NA>  <NA>   \n",
      "3 2014-01-04  27.7  25.0  30.0  <NA>  <NA>  <NA>   5.6  <NA>  <NA>  <NA>   \n",
      "4 2014-01-05  27.8  24.0  31.0  <NA>  <NA>  <NA>   6.3  <NA>  <NA>  <NA>   \n",
      "\n",
      "       city  \n",
      "0  Langkawi  \n",
      "1  Langkawi  \n",
      "2  Langkawi  \n",
      "3  Langkawi  \n",
      "4  Langkawi  \n",
      "📂 File: /content/drive/MyDrive/Weather/Langkawi.csv\n"
     ]
    }
   ],
   "source": [
    "from datetime import datetime\n",
    "import pandas as pd\n",
    "from meteostat import Point, Daily\n",
    "\n",
    "# Time range\n",
    "start = datetime(2014, 1, 1)\n",
    "end = datetime(2024, 12, 31)\n",
    "\n",
    "#Langkawi coordinates\n",
    "Langkawi = Point(6.35, 99.80, 5)\n",
    "\n",
    "# Fetch daily data\n",
    "data = Daily(Langkawi, start, end).fetch()\n",
    "\n",
    "# Reset index so the date becomes a column\n",
    "data = data.reset_index()\n",
    "\n",
    "# Add city name column\n",
    "data['city'] = 'Langkawi'\n",
    "\n",
    "# Save to CSV in \n",
    "file_path = \"../../data/malaysia/clean/weather/Langkawi.csv\"\n",
    "data.to_csv(file_path, index=False)\n",
    "\n",
    "print(\"Saved with date column included:\")\n",
    "print(data.head())\n",
    "print(f\"📂 File: {file_path}\")\n"
   ]
  },
  {
   "cell_type": "code",
   "execution_count": null,
   "metadata": {
    "colab": {
     "base_uri": "https://localhost:8080/"
    },
    "executionInfo": {
     "elapsed": 407,
     "status": "ok",
     "timestamp": 1760191216983,
     "user": {
      "displayName": "Yadanar Theint",
      "userId": "06229744448263539598"
     },
     "user_tz": -480
    },
    "id": "lUZCxBrokMPn",
    "outputId": "1fe8c02b-d0d7-4297-9d79-88b3345fb8dd"
   },
   "outputs": [
    {
     "name": "stdout",
     "output_type": "stream",
     "text": [
      "✅ Saved with date column included:\n",
      "        time  tavg  tmin  tmax  prcp  snow  wdir  wspd  wpgt  pres  tsun  \\\n",
      "0 2014-01-01  28.0  24.8  32.8  <NA>  <NA>  <NA>  11.2  <NA>  <NA>  <NA>   \n",
      "1 2014-01-02  28.6  24.8  33.0  <NA>  <NA>  <NA>  11.1  <NA>  <NA>  <NA>   \n",
      "2 2014-01-03  26.7  23.8  31.8  <NA>  <NA>  <NA>  10.3  <NA>  <NA>  <NA>   \n",
      "3 2014-01-04  25.4  23.4  30.8  <NA>  <NA>  <NA>   5.0  <NA>  <NA>  <NA>   \n",
      "4 2014-01-05  26.5  23.8  30.8  <NA>  <NA>  <NA>   4.5  <NA>  <NA>  <NA>   \n",
      "\n",
      "    city  \n",
      "0  Nilai  \n",
      "1  Nilai  \n",
      "2  Nilai  \n",
      "3  Nilai  \n",
      "4  Nilai  \n",
      "📂 File: /content/drive/MyDrive/Weather/Nilai.csv\n"
     ]
    }
   ],
   "source": [
    "from datetime import datetime\n",
    "import pandas as pd\n",
    "from meteostat import Point, Daily\n",
    "\n",
    "# Time range\n",
    "start = datetime(2014, 1, 1)\n",
    "end = datetime(2024, 12, 31)\n",
    "\n",
    "#Nilai coordinates\n",
    "Nilai = Point(2.8150, 101.7972, 55)\n",
    "\n",
    "# Fetch daily data\n",
    "data = Daily(Nilai, start, end).fetch()\n",
    "\n",
    "# Reset index so the date becomes a column\n",
    "data = data.reset_index()\n",
    "\n",
    "# Add city name column\n",
    "data['city'] = 'Nilai'\n",
    "\n",
    "# Save to CSV in \n",
    "file_path = \"../../data/malaysia/clean/weather/Nilai.csv\"\n",
    "data.to_csv(file_path, index=False)\n",
    "\n",
    "print(\"Saved with date column included:\")\n",
    "print(data.head())\n",
    "print(f\"📂 File: {file_path}\")\n"
   ]
  },
  {
   "cell_type": "code",
   "execution_count": null,
   "metadata": {
    "colab": {
     "base_uri": "https://localhost:8080/"
    },
    "executionInfo": {
     "elapsed": 13,
     "status": "ok",
     "timestamp": 1760191304126,
     "user": {
      "displayName": "Yadanar Theint",
      "userId": "06229744448263539598"
     },
     "user_tz": -480
    },
    "id": "3zLYTtFRkswd",
    "outputId": "3c7ea1b6-8d9f-4b77-e564-c35cec6ec7ba"
   },
   "outputs": [
    {
     "name": "stdout",
     "output_type": "stream",
     "text": [
      "✅ Saved with date column included:\n",
      "Empty DataFrame\n",
      "Columns: [index, tavg, tmin, tmax, prcp, snow, wdir, wspd, wpgt, pres, tsun, city]\n",
      "Index: []\n",
      "📂 File: /content/drive/MyDrive/Weather/PetalingJaya.csv\n"
     ]
    }
   ],
   "source": [
    "from datetime import datetime\n",
    "import pandas as pd\n",
    "from meteostat import Point, Daily\n",
    "\n",
    "# Time range\n",
    "start = datetime(2014, 1, 1)\n",
    "end = datetime(2024, 12, 31)\n",
    "\n",
    "#PetalingJaya coordinates\n",
    "PetalingJaya = Point(3.1073, 101.6067, 55)\n",
    "\n",
    "\n",
    "# Fetch daily data\n",
    "data = Daily(PetalingJaya, start, end).fetch()\n",
    "\n",
    "# Reset index so the date becomes a column\n",
    "data = data.reset_index()\n",
    "\n",
    "# Add city name column\n",
    "data['city'] = 'PetalingJaya'\n",
    "\n",
    "# Save to CSV in \n",
    "file_path = \"../../data/malaysia/clean/weather/PetalingJaya.csv\"\n",
    "data.to_csv(file_path, index=False)\n",
    "\n",
    "print(\"Saved with date column included:\")\n",
    "print(data.head())\n",
    "print(f\"📂 File: {file_path}\")\n"
   ]
  },
  {
   "cell_type": "code",
   "execution_count": null,
   "metadata": {
    "colab": {
     "base_uri": "https://localhost:8080/"
    },
    "executionInfo": {
     "elapsed": 200,
     "status": "ok",
     "timestamp": 1760191395938,
     "user": {
      "displayName": "Yadanar Theint",
      "userId": "06229744448263539598"
     },
     "user_tz": -480
    },
    "id": "fh4c2IhSlIUX",
    "outputId": "2a7921e4-1ae8-4aa3-8443-3df561ef1e2d"
   },
   "outputs": [
    {
     "name": "stdout",
     "output_type": "stream",
     "text": [
      "✅ Saved with date column included:\n",
      "        time  tavg  tmin  tmax  prcp  snow  wdir  wspd  wpgt  pres  tsun  \\\n",
      "0 2014-01-01  27.8  24.6  32.6  <NA>  <NA>  <NA>  11.2  <NA>  <NA>  <NA>   \n",
      "1 2014-01-02  28.4  24.6  32.8  <NA>  <NA>  <NA>  11.1  <NA>  <NA>  <NA>   \n",
      "2 2014-01-03  26.5  23.6  31.6  <NA>  <NA>  <NA>  10.3  <NA>  <NA>  <NA>   \n",
      "3 2014-01-04  25.2  23.2  30.6  <NA>  <NA>  <NA>   5.0  <NA>  <NA>  <NA>   \n",
      "4 2014-01-05  26.3  23.6  30.6  <NA>  <NA>  <NA>   4.5  <NA>  <NA>  <NA>   \n",
      "\n",
      "        city  \n",
      "0  Serembam   \n",
      "1  Serembam   \n",
      "2  Serembam   \n",
      "3  Serembam   \n",
      "4  Serembam   \n",
      "📂 File: /content/drive/MyDrive/Weather/Serembam .csv\n"
     ]
    }
   ],
   "source": [
    "from datetime import datetime\n",
    "import pandas as pd\n",
    "from meteostat import Point, Daily\n",
    "\n",
    "# Time range\n",
    "start = datetime(2014, 1, 1)\n",
    "end = datetime(2024, 12, 31)\n",
    "\n",
    "#Serembam  coordinates\n",
    "Serembam = Point(2.7297, 101.9381, 81)\n",
    "\n",
    "\n",
    "# Fetch daily data\n",
    "data = Daily(Serembam , start, end).fetch()\n",
    "\n",
    "# Reset index so the date becomes a column\n",
    "data = data.reset_index()\n",
    "\n",
    "# Add city name column\n",
    "data['city'] = 'Serembam '\n",
    "\n",
    "# Save to CSV in \n",
    "file_path = \"../../data/malaysia/clean/weather/Serembam .csv\"\n",
    "data.to_csv(file_path, index=False)\n",
    "\n",
    "print(\"Saved with date column included:\")\n",
    "print(data.head())\n",
    "print(f\"📂 File: {file_path}\")\n"
   ]
  },
  {
   "cell_type": "code",
   "execution_count": null,
   "metadata": {
    "colab": {
     "base_uri": "https://localhost:8080/"
    },
    "executionInfo": {
     "elapsed": 68,
     "status": "ok",
     "timestamp": 1760191491864,
     "user": {
      "displayName": "Yadanar Theint",
      "userId": "06229744448263539598"
     },
     "user_tz": -480
    },
    "id": "Lz0u5XXylctr",
    "outputId": "637d7080-5963-4828-df34-8906348904c8"
   },
   "outputs": [
    {
     "name": "stdout",
     "output_type": "stream",
     "text": [
      "✅ Saved with date column included:\n",
      "Empty DataFrame\n",
      "Columns: [index, tavg, tmin, tmax, prcp, snow, wdir, wspd, wpgt, pres, tsun, city]\n",
      "Index: []\n",
      "📂 File: /content/drive/MyDrive/Weather/ShahAlam.csv\n"
     ]
    }
   ],
   "source": [
    "from datetime import datetime\n",
    "import pandas as pd\n",
    "from meteostat import Point, Daily\n",
    "\n",
    "# Time range\n",
    "start = datetime(2014, 1, 1)\n",
    "end = datetime(2024, 12, 31)\n",
    "\n",
    "#ShahAlam  coordinates\n",
    "ShahAlam = Point(3.0738, 101.5183, 49)\n",
    "\n",
    "# Fetch daily data\n",
    "data = Daily(ShahAlam , start, end).fetch()\n",
    "\n",
    "# Reset index so the date becomes a column\n",
    "data = data.reset_index()\n",
    "\n",
    "# Add city name column\n",
    "data['city'] = 'ShahAlam'\n",
    "\n",
    "# Save to CSV in \n",
    "file_path = \"../../data/malaysia/clean/weather/ShahAlam.csv\"\n",
    "data.to_csv(file_path, index=False)\n",
    "\n",
    "print(\"Saved with date column included:\")\n",
    "print(data.head())\n",
    "print(f\"📂 File: {file_path}\")\n"
   ]
  },
  {
   "cell_type": "code",
   "execution_count": null,
   "metadata": {
    "id": "WsZP0In1ltTk"
   },
   "outputs": [],
   "source": [
    "from datetime import datetime\n",
    "import pandas as pd\n",
    "from meteostat import Point, Daily\n",
    "\n",
    "# Time range\n",
    "start = datetime(2014, 1, 1)\n",
    "end = datetime(2024, 12, 31)\n",
    "\n",
    "#ShahAlam  coordinates\n",
    "ShahAlam = Point(3.0738, 101.5183, 49)\n",
    "\n",
    "# Fetch daily data\n",
    "data = Daily(ShahAlam , start, end).fetch()\n",
    "\n",
    "# Reset index so the date becomes a column\n",
    "data = data.reset_index()\n",
    "\n",
    "# Add city name column\n",
    "data['city'] = 'ShahAlam'\n",
    "\n",
    "# Save to CSV in \n",
    "file_path = \"../../data/malaysia/clean/weather/ShahAlam.csv\"\n",
    "data.to_csv(file_path, index=False)\n",
    "\n",
    "print(\"Saved with date column included:\")\n",
    "print(data.head())\n",
    "print(f\"📂 File: {file_path}\")\n"
   ]
  },
  {
   "cell_type": "code",
   "execution_count": null,
   "metadata": {
    "colab": {
     "base_uri": "https://localhost:8080/"
    },
    "executionInfo": {
     "elapsed": 58,
     "status": "ok",
     "timestamp": 1760191641577,
     "user": {
      "displayName": "Yadanar Theint",
      "userId": "06229744448263539598"
     },
     "user_tz": -480
    },
    "id": "UbdfDDmZmFvR",
    "outputId": "06a9241e-ea93-47f5-fa29-24297c9fba63"
   },
   "outputs": [
    {
     "name": "stdout",
     "output_type": "stream",
     "text": [
      "✅ Saved with date column included:\n",
      "Empty DataFrame\n",
      "Columns: [index, tavg, tmin, tmax, prcp, snow, wdir, wspd, wpgt, pres, tsun, city]\n",
      "Index: []\n",
      "📂 File: /content/drive/MyDrive/Weather/Cheras.csv\n"
     ]
    }
   ],
   "source": [
    "from datetime import datetime\n",
    "import pandas as pd\n",
    "from meteostat import Point, Daily\n",
    "\n",
    "# Time range\n",
    "start = datetime(2014, 1, 1)\n",
    "end = datetime(2024, 12, 31)\n",
    "\n",
    "#Cheras  coordinates\n",
    "Cheras = Point(3.0833, 101.7500, 55)\n",
    "\n",
    "# Fetch daily data\n",
    "data = Daily(Cheras, start, end).fetch()\n",
    "\n",
    "# Reset index so the date becomes a column\n",
    "data = data.reset_index()\n",
    "\n",
    "# Add city name column\n",
    "data['city'] = 'Cheras'\n",
    "\n",
    "# Save to CSV in \n",
    "file_path = \"../../data/malaysia/clean/weather/Cheras.csv\"\n",
    "data.to_csv(file_path, index=False)\n",
    "\n",
    "print(\"Saved with date column included:\")\n",
    "print(data.head())\n",
    "print(f\"📂 File: {file_path}\")\n"
   ]
  },
  {
   "cell_type": "code",
   "execution_count": null,
   "metadata": {
    "colab": {
     "base_uri": "https://localhost:8080/"
    },
    "executionInfo": {
     "elapsed": 15,
     "status": "ok",
     "timestamp": 1760191691913,
     "user": {
      "displayName": "Yadanar Theint",
      "userId": "06229744448263539598"
     },
     "user_tz": -480
    },
    "id": "XzaRrfPJmRuF",
    "outputId": "d310316f-e774-49c0-8d16-a68cb53f765c"
   },
   "outputs": [
    {
     "name": "stdout",
     "output_type": "stream",
     "text": [
      "✅ Saved with date column included:\n",
      "Empty DataFrame\n",
      "Columns: [index, tavg, tmin, tmax, prcp, snow, wdir, wspd, wpgt, pres, tsun, city]\n",
      "Index: []\n",
      "📂 File: /content/drive/MyDrive/Weather/KualaSelangor.csv\n"
     ]
    }
   ],
   "source": [
    "from datetime import datetime\n",
    "import pandas as pd\n",
    "from meteostat import Point, Daily\n",
    "\n",
    "# Time range\n",
    "start = datetime(2014, 1, 1)\n",
    "end = datetime(2024, 12, 31)\n",
    "\n",
    "#KualaSelangor coordinates\n",
    "KualaSelangor = Point(3.3500, 101.2500, 8)\n",
    "\n",
    "# Fetch daily data\n",
    "data = Daily(KualaSelangor, start, end).fetch()\n",
    "\n",
    "# Reset index so the date becomes a column\n",
    "data = data.reset_index()\n",
    "\n",
    "# Add city name column\n",
    "data['city'] = 'KualaSelangor'\n",
    "\n",
    "# Save to CSV in \n",
    "file_path = \"../../data/malaysia/clean/weather/KualaSelangor.csv\"\n",
    "data.to_csv(file_path, index=False)\n",
    "\n",
    "print(\"Saved with date column included:\")\n",
    "print(data.head())\n",
    "print(f\"📂 File: {file_path}\")\n"
   ]
  },
  {
   "cell_type": "code",
   "execution_count": null,
   "metadata": {
    "colab": {
     "base_uri": "https://localhost:8080/"
    },
    "executionInfo": {
     "elapsed": 230,
     "status": "ok",
     "timestamp": 1760191751303,
     "user": {
      "displayName": "Yadanar Theint",
      "userId": "06229744448263539598"
     },
     "user_tz": -480
    },
    "id": "0bss8M8nmdOK",
    "outputId": "772a4546-0e34-4e6b-9e31-3f5fbdd770e2"
   },
   "outputs": [
    {
     "name": "stdout",
     "output_type": "stream",
     "text": [
      "✅ Saved with date column included:\n",
      "        time  tavg  tmin  tmax  prcp  snow  wdir  wspd  wpgt  pres  tsun  \\\n",
      "0 2014-01-01  28.3  25.1  33.1  <NA>  <NA>  <NA>  11.2  <NA>  <NA>  <NA>   \n",
      "1 2014-01-02  28.9  25.1  33.3  <NA>  <NA>  <NA>  11.1  <NA>  <NA>  <NA>   \n",
      "2 2014-01-03  27.0  24.1  32.1  <NA>  <NA>  <NA>  10.3  <NA>  <NA>  <NA>   \n",
      "3 2014-01-04  25.7  23.7  31.1  <NA>  <NA>  <NA>   5.0  <NA>  <NA>  <NA>   \n",
      "4 2014-01-05  26.8  24.1  31.1  <NA>  <NA>  <NA>   4.5  <NA>  <NA>  <NA>   \n",
      "\n",
      "          city  \n",
      "0  PortDickson  \n",
      "1  PortDickson  \n",
      "2  PortDickson  \n",
      "3  PortDickson  \n",
      "4  PortDickson  \n",
      "📂 File: /content/drive/MyDrive/Weather/PortDickson.csv\n"
     ]
    }
   ],
   "source": [
    "from datetime import datetime\n",
    "import pandas as pd\n",
    "from meteostat import Point, Daily\n",
    "\n",
    "# Time range\n",
    "start = datetime(2014, 1, 1)\n",
    "end = datetime(2024, 12, 31)\n",
    "\n",
    "#PortDickson coordinates\n",
    "PortDickson = Point(2.5200, 101.8000, 5)\n",
    "\n",
    "# Fetch daily data\n",
    "data = Daily(PortDickson, start, end).fetch()\n",
    "\n",
    "# Reset index so the date becomes a column\n",
    "data = data.reset_index()\n",
    "\n",
    "# Add city name column\n",
    "data['city'] = 'PortDickson'\n",
    "\n",
    "# Save to CSV in \n",
    "file_path = \"../../data/malaysia/clean/weather/PortDickson.csv\"\n",
    "data.to_csv(file_path, index=False)\n",
    "print(\"Saved with date column included:\")\n",
    "print(data.head())\n",
    "print(f\"📂 File: {file_path}\")\n"
   ]
  },
  {
   "cell_type": "code",
   "execution_count": null,
   "metadata": {
    "colab": {
     "base_uri": "https://localhost:8080/"
    },
    "executionInfo": {
     "elapsed": 371,
     "status": "ok",
     "timestamp": 1760191797378,
     "user": {
      "displayName": "Yadanar Theint",
      "userId": "06229744448263539598"
     },
     "user_tz": -480
    },
    "id": "2-TGUVJzmrQl",
    "outputId": "ee8dde88-db01-48ce-f0c6-7b31bf47dc80"
   },
   "outputs": [
    {
     "name": "stdout",
     "output_type": "stream",
     "text": [
      "✅ Saved with date column included:\n",
      "        time  tavg  tmin  tmax  prcp  snow  wdir  wspd  wpgt  pres  tsun  \\\n",
      "0 2014-01-01  26.2  23.0  30.0  13.5  <NA>  <NA>   6.7  <NA>  <NA>  <NA>   \n",
      "1 2014-01-02  26.8  24.0  31.0  <NA>  <NA>  <NA>   8.7  <NA>  <NA>  <NA>   \n",
      "2 2014-01-03  26.5  23.0  30.0   0.0  <NA>  <NA>   7.2  <NA>  <NA>  <NA>   \n",
      "3 2014-01-04  25.9  23.0  31.0   0.0  <NA>  <NA>   5.1  <NA>  <NA>  <NA>   \n",
      "4 2014-01-05  24.5  23.0  26.0  15.5  <NA>  <NA>   6.5  <NA>  <NA>  <NA>   \n",
      "\n",
      "     city  \n",
      "0  Larkin  \n",
      "1  Larkin  \n",
      "2  Larkin  \n",
      "3  Larkin  \n",
      "4  Larkin  \n",
      "📂 File: /content/drive/MyDrive/Weather/Larkin.csv\n"
     ]
    }
   ],
   "source": [
    "from datetime import datetime\n",
    "import pandas as pd\n",
    "from meteostat import Point, Daily\n",
    "\n",
    "# Time range\n",
    "start = datetime(2014, 1, 1)\n",
    "end = datetime(2024, 12, 31)\n",
    "\n",
    "#Larkin coordinates\n",
    "Larkin = Point(1.4925, 103.7420, 36)\n",
    "\n",
    "# Fetch daily data\n",
    "data = Daily(Larkin, start, end).fetch()\n",
    "\n",
    "# Reset index so the date becomes a column\n",
    "data = data.reset_index()\n",
    "\n",
    "# Add city name column\n",
    "data['city'] = 'Larkin'\n",
    "\n",
    "# Save to CSV in \n",
    "file_path = \"../../data/malaysia/clean/weather/Larkin.csv\"\n",
    "data.to_csv(file_path, index=False)\n",
    "\n",
    "print(\"Saved with date column included:\")\n",
    "print(data.head())\n",
    "print(f\"📂 File: {file_path}\")\n"
   ]
  }
 ],
 "metadata": {
  "colab": {
   "authorship_tag": "ABX9TyMH/uMuaRfvyTtl4J0SBYKh",
   "provenance": []
  },
  "kernelspec": {
   "display_name": "Python 3",
   "name": "python3"
  },
  "language_info": {
   "name": "python"
  }
 },
 "nbformat": 4,
 "nbformat_minor": 0
}
