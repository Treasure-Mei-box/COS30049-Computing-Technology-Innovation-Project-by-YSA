{
 "cells": [
  {
   "cell_type": "code",
   "execution_count": 1,
   "metadata": {},
   "outputs": [],
   "source": [
    "import pandas as pd\n",
    "import numpy as np\n",
    "import re"
   ]
  },
  {
   "cell_type": "code",
   "execution_count": 2,
   "metadata": {},
   "outputs": [],
   "source": [
    "# Input + Output\n",
    "FNAME = \"Bangkok(2010-2025).csv\"\n",
    "OUT = \"Bangkok_Daily.csv\"\n",
    "\n",
    "df_try = pd.read_csv(FNAME, nrows=5)\n",
    "first_col_name = df_try.columns[0]"
   ]
  },
  {
   "cell_type": "code",
   "execution_count": 3,
   "metadata": {},
   "outputs": [],
   "source": [
    "# Heuristic: if first value of first column looks like an ISO timestamp, use header=0,\n",
    "# otherwise assume headerless and set names manually later.\n",
    "sample_first = df_try.iloc[0, 0]\n",
    "is_timestamp_like = isinstance(sample_first, str) and re.match(r'^\\d{4}-\\d{2}-\\d{2}T\\d{2}:\\d{2}', sample_first)\n",
    "\n",
    "if is_timestamp_like:\n",
    "    df = pd.read_csv(FNAME)\n",
    "else:\n",
    "    # headerless assumed: keep only first 3 columns if more\n",
    "    df = pd.read_csv(FNAME, header=None)\n",
    "    # give sensible names: time + remaining columns generically\n",
    "    ncols = df.shape[1]\n",
    "    names = [\"time\"] + [f\"col{i}\" for i in range(1, ncols)]\n",
    "    df.columns = names"
   ]
  },
  {
   "cell_type": "code",
   "execution_count": 4,
   "metadata": {},
   "outputs": [],
   "source": [
    "# Clean column names (strip, remove BOM, simplify)\n",
    "df.columns = df.columns.str.strip().str.replace('\\ufeff', '', regex=False)\n",
    "safe_cols = []\n",
    "for c in df.columns:\n",
    "    # keep 'time' as-is\n",
    "    if c.lower() == 'time':\n",
    "        safe_cols.append('time')\n",
    "    else:\n",
    "        s = re.sub(r'[^\\w]+', '_', c).strip('_').lower()  # e.g. \"temperature_2m_(°C)\" -> \"temperature_2m_c\"\n",
    "        s = s.replace('degreec', 'c').replace('c_', 'c')\n",
    "        safe_cols.append(s)\n",
    "df.columns = safe_cols"
   ]
  },
  {
   "cell_type": "code",
   "execution_count": 5,
   "metadata": {},
   "outputs": [],
   "source": [
    "# Parse 'time' column\n",
    "if 'time' not in df.columns:\n",
    "    # assume first column is time\n",
    "    df = df.rename(columns={df.columns[0]: 'time'})\n",
    "\n",
    "df['time'] = pd.to_datetime(df['time'], format='%Y-%m-%dT%H:%M', errors='coerce')\n",
    "df = df.dropna(subset=['time'])"
   ]
  },
  {
   "cell_type": "code",
   "execution_count": 6,
   "metadata": {},
   "outputs": [],
   "source": [
    "# Select numeric columns (everything except time)\n",
    "num_cols = df.columns.difference(['time']).tolist()"
   ]
  },
  {
   "cell_type": "code",
   "execution_count": 7,
   "metadata": {},
   "outputs": [],
   "source": [
    "# Clean numeric columns: strip spaces, remove non-numeric chars commonly found\n",
    "for col in num_cols:\n",
    "    # convert to string then strip unwanted characters before numeric cast\n",
    "    df[col] = df[col].astype(str).str.strip().str.replace('\\ufeff','', regex=False)\n",
    "    df[col] = df[col].str.replace(',', '', regex=False)          # remove thousands comma\n",
    "    # allow negative sign, digits, dot; replace other chars with ''\n",
    "    df[col] = df[col].str.replace(r'[^0-9\\.\\-]', '', regex=True)\n",
    "    df[col] = pd.to_numeric(df[col], errors='coerce')"
   ]
  },
  {
   "cell_type": "code",
   "execution_count": 8,
   "metadata": {},
   "outputs": [],
   "source": [
    "# Set time index and resample to daily mean\n",
    "df = df.set_index('time')\n",
    "daily = df[num_cols].resample('D').mean()\n",
    "\n",
    "# Round to 2 decimals (numeric)\n",
    "daily = daily.round(2)"
   ]
  },
  {
   "cell_type": "code",
   "execution_count": 9,
   "metadata": {},
   "outputs": [
    {
     "name": "stdout",
     "output_type": "stream",
     "text": [
      "Saved daily averages to Bangkok_Daily.csv\n",
      "Columns averaged: ['relative_humidity_2m', 'temperature_2m_c', 'wind_speed_10m_km_h']\n",
      "            relative_humidity_2m  temperature_2m_c  wind_speed_10m_km_h\n",
      "time                                                                   \n",
      "2010-01-01                 75.83             27.91                 5.94\n",
      "2010-01-02                 74.96             27.87                 6.82\n",
      "2010-01-03                 70.42             28.31                 4.90\n",
      "2010-01-04                 74.75             27.91                 8.55\n",
      "2010-01-05                 76.54             28.41                10.49\n"
     ]
    }
   ],
   "source": [
    "# Save single CSV with 2-decimal formatting\n",
    "daily.to_csv(OUT, float_format=\"%.2f\", index=True, index_label='date')\n",
    "\n",
    "print(f\"Saved daily averages to {OUT}\")\n",
    "print(\"Columns averaged:\", num_cols)\n",
    "print(daily.head())"
   ]
  }
 ],
 "metadata": {
  "kernelspec": {
   "display_name": "base",
   "language": "python",
   "name": "python3"
  },
  "language_info": {
   "codemirror_mode": {
    "name": "ipython",
    "version": 3
   },
   "file_extension": ".py",
   "mimetype": "text/x-python",
   "name": "python",
   "nbconvert_exporter": "python",
   "pygments_lexer": "ipython3",
   "version": "3.9.16"
  },
  "orig_nbformat": 4
 },
 "nbformat": 4,
 "nbformat_minor": 2
}
