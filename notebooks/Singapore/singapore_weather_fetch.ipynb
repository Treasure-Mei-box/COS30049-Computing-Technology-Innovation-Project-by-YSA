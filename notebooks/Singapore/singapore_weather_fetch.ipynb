{
  "cells": [
    {
      "cell_type": "markdown",
      "metadata": {},
      "source": [
        "# Singapore Weather and Air Temperature Data Fetching (2015-2024)\n",
        "\n",
        "This notebook fetches historical weather and air temperature data for Singapore (2015-2024) using the Open-Meteo API.\n",
        "- **Weather Data**: Complete 2015-2024 dataset (temperature, humidity, wind speed)\n"
      ]
    },
    {
      "cell_type": "code",
      "execution_count": 14,
      "metadata": {},
      "outputs": [
        {
          "name": "stdout",
          "output_type": "stream",
          "text": [
            "Requirement already satisfied: openmeteo-requests in /Users/sharin/Downloads/COS30049/Assignment/Assignment_2/COS30049-Computing-Technology-Innovation-Project-by-YSA/.venv/lib/python3.13/site-packages (1.7.3)\n",
            "Requirement already satisfied: niquests>=3.15.2 in /Users/sharin/Downloads/COS30049/Assignment/Assignment_2/COS30049-Computing-Technology-Innovation-Project-by-YSA/.venv/lib/python3.13/site-packages (from openmeteo-requests) (3.15.2)\n",
            "Requirement already satisfied: openmeteo-sdk>=1.21.1 in /Users/sharin/Downloads/COS30049/Assignment/Assignment_2/COS30049-Computing-Technology-Innovation-Project-by-YSA/.venv/lib/python3.13/site-packages (from openmeteo-requests) (1.21.2)\n",
            "Requirement already satisfied: charset-normalizer<4,>=2 in /Users/sharin/Downloads/COS30049/Assignment/Assignment_2/COS30049-Computing-Technology-Innovation-Project-by-YSA/.venv/lib/python3.13/site-packages (from niquests>=3.15.2->openmeteo-requests) (3.4.4)\n",
            "Requirement already satisfied: urllib3-future<3,>=2.13.903 in /Users/sharin/Downloads/COS30049/Assignment/Assignment_2/COS30049-Computing-Technology-Innovation-Project-by-YSA/.venv/lib/python3.13/site-packages (from niquests>=3.15.2->openmeteo-requests) (2.14.905)\n",
            "Requirement already satisfied: wassima<3,>=1.0.1 in /Users/sharin/Downloads/COS30049/Assignment/Assignment_2/COS30049-Computing-Technology-Innovation-Project-by-YSA/.venv/lib/python3.13/site-packages (from niquests>=3.15.2->openmeteo-requests) (2.0.2)\n",
            "Requirement already satisfied: h11<1.0.0,>=0.11.0 in /Users/sharin/Downloads/COS30049/Assignment/Assignment_2/COS30049-Computing-Technology-Innovation-Project-by-YSA/.venv/lib/python3.13/site-packages (from urllib3-future<3,>=2.13.903->niquests>=3.15.2->openmeteo-requests) (0.16.0)\n",
            "Requirement already satisfied: jh2<6.0.0,>=5.0.3 in /Users/sharin/Downloads/COS30049/Assignment/Assignment_2/COS30049-Computing-Technology-Innovation-Project-by-YSA/.venv/lib/python3.13/site-packages (from urllib3-future<3,>=2.13.903->niquests>=3.15.2->openmeteo-requests) (5.0.10)\n",
            "Requirement already satisfied: qh3<2.0.0,>=1.5.4 in /Users/sharin/Downloads/COS30049/Assignment/Assignment_2/COS30049-Computing-Technology-Innovation-Project-by-YSA/.venv/lib/python3.13/site-packages (from urllib3-future<3,>=2.13.903->niquests>=3.15.2->openmeteo-requests) (1.5.5)\n",
            "Requirement already satisfied: flatbuffers==25.2.10 in /Users/sharin/Downloads/COS30049/Assignment/Assignment_2/COS30049-Computing-Technology-Innovation-Project-by-YSA/.venv/lib/python3.13/site-packages (from openmeteo-sdk>=1.21.1->openmeteo-requests) (25.2.10)\n",
            "Note: you may need to restart the kernel to use updated packages.\n",
            "Requirement already satisfied: requests-cache in /Users/sharin/Downloads/COS30049/Assignment/Assignment_2/COS30049-Computing-Technology-Innovation-Project-by-YSA/.venv/lib/python3.13/site-packages (1.2.1)\n",
            "Requirement already satisfied: retry-requests in /Users/sharin/Downloads/COS30049/Assignment/Assignment_2/COS30049-Computing-Technology-Innovation-Project-by-YSA/.venv/lib/python3.13/site-packages (2.0.0)\n",
            "Requirement already satisfied: numpy in /Users/sharin/Downloads/COS30049/Assignment/Assignment_2/COS30049-Computing-Technology-Innovation-Project-by-YSA/.venv/lib/python3.13/site-packages (2.3.4)\n",
            "Requirement already satisfied: pandas in /Users/sharin/Downloads/COS30049/Assignment/Assignment_2/COS30049-Computing-Technology-Innovation-Project-by-YSA/.venv/lib/python3.13/site-packages (2.3.3)\n",
            "Requirement already satisfied: attrs>=21.2 in /Users/sharin/Downloads/COS30049/Assignment/Assignment_2/COS30049-Computing-Technology-Innovation-Project-by-YSA/.venv/lib/python3.13/site-packages (from requests-cache) (25.4.0)\n",
            "Requirement already satisfied: cattrs>=22.2 in /Users/sharin/Downloads/COS30049/Assignment/Assignment_2/COS30049-Computing-Technology-Innovation-Project-by-YSA/.venv/lib/python3.13/site-packages (from requests-cache) (25.3.0)\n",
            "Requirement already satisfied: platformdirs>=2.5 in /Users/sharin/Downloads/COS30049/Assignment/Assignment_2/COS30049-Computing-Technology-Innovation-Project-by-YSA/.venv/lib/python3.13/site-packages (from requests-cache) (4.5.0)\n",
            "Requirement already satisfied: requests>=2.22 in /Users/sharin/Downloads/COS30049/Assignment/Assignment_2/COS30049-Computing-Technology-Innovation-Project-by-YSA/.venv/lib/python3.13/site-packages (from requests-cache) (2.32.5)\n",
            "Requirement already satisfied: url-normalize>=1.4 in /Users/sharin/Downloads/COS30049/Assignment/Assignment_2/COS30049-Computing-Technology-Innovation-Project-by-YSA/.venv/lib/python3.13/site-packages (from requests-cache) (2.2.1)\n",
            "Requirement already satisfied: urllib3>=1.25.5 in /Users/sharin/Downloads/COS30049/Assignment/Assignment_2/COS30049-Computing-Technology-Innovation-Project-by-YSA/.venv/lib/python3.13/site-packages (from requests-cache) (2.5.0)\n",
            "Requirement already satisfied: python-dateutil>=2.8.2 in /Users/sharin/Downloads/COS30049/Assignment/Assignment_2/COS30049-Computing-Technology-Innovation-Project-by-YSA/.venv/lib/python3.13/site-packages (from pandas) (2.9.0.post0)\n",
            "Requirement already satisfied: pytz>=2020.1 in /Users/sharin/Downloads/COS30049/Assignment/Assignment_2/COS30049-Computing-Technology-Innovation-Project-by-YSA/.venv/lib/python3.13/site-packages (from pandas) (2025.2)\n",
            "Requirement already satisfied: tzdata>=2022.7 in /Users/sharin/Downloads/COS30049/Assignment/Assignment_2/COS30049-Computing-Technology-Innovation-Project-by-YSA/.venv/lib/python3.13/site-packages (from pandas) (2025.2)\n",
            "Requirement already satisfied: typing-extensions>=4.14.0 in /Users/sharin/Downloads/COS30049/Assignment/Assignment_2/COS30049-Computing-Technology-Innovation-Project-by-YSA/.venv/lib/python3.13/site-packages (from cattrs>=22.2->requests-cache) (4.15.0)\n",
            "Requirement already satisfied: six>=1.5 in /Users/sharin/Downloads/COS30049/Assignment/Assignment_2/COS30049-Computing-Technology-Innovation-Project-by-YSA/.venv/lib/python3.13/site-packages (from python-dateutil>=2.8.2->pandas) (1.17.0)\n",
            "Requirement already satisfied: charset_normalizer<4,>=2 in /Users/sharin/Downloads/COS30049/Assignment/Assignment_2/COS30049-Computing-Technology-Innovation-Project-by-YSA/.venv/lib/python3.13/site-packages (from requests>=2.22->requests-cache) (3.4.4)\n",
            "Requirement already satisfied: idna<4,>=2.5 in /Users/sharin/Downloads/COS30049/Assignment/Assignment_2/COS30049-Computing-Technology-Innovation-Project-by-YSA/.venv/lib/python3.13/site-packages (from requests>=2.22->requests-cache) (3.11)\n",
            "Requirement already satisfied: certifi>=2017.4.17 in /Users/sharin/Downloads/COS30049/Assignment/Assignment_2/COS30049-Computing-Technology-Innovation-Project-by-YSA/.venv/lib/python3.13/site-packages (from requests>=2.22->requests-cache) (2025.10.5)\n",
            "Note: you may need to restart the kernel to use updated packages.\n"
          ]
        }
      ],
      "source": [
        "# Install required packages\n",
        "%pip install openmeteo-requests\n",
        "%pip install requests-cache retry-requests numpy pandas\n"
      ]
    },
    {
      "cell_type": "code",
      "execution_count": 15,
      "metadata": {},
      "outputs": [
        {
          "name": "stdout",
          "output_type": "stream",
          "text": [
            "Coordinates: 1.3708258867263794°N 103.8023681640625°E\n",
            "Elevation: 46.0 m asl\n",
            "Timezone: b'Asia/Singapore' b'GMT+8'\n",
            "Timezone difference to GMT+0: 28800s\n",
            "\n",
            "Hourly data sample:\n",
            "                        date  temperature_2m  relative_humidity_2m  \\\n",
            "0 2014-12-31 16:00:00+00:00          24.257             90.525497   \n",
            "1 2014-12-31 17:00:00+00:00          24.157             90.794037   \n",
            "2 2014-12-31 18:00:00+00:00          24.007             91.615318   \n",
            "3 2014-12-31 19:00:00+00:00          24.107             93.302505   \n",
            "4 2014-12-31 20:00:00+00:00          24.157             92.741776   \n",
            "\n",
            "   wind_speed_10m  \n",
            "0        9.957108  \n",
            "1       10.594036  \n",
            "2       10.853866  \n",
            "3       10.799999  \n",
            "4       10.464798  \n"
          ]
        }
      ],
      "source": [
        "import openmeteo_requests\n",
        "import pandas as pd\n",
        "import requests_cache\n",
        "from retry_requests import retry\n",
        "\n",
        "# Setup the Open-Meteo API client with cache and retry on error\n",
        "cache_session = requests_cache.CachedSession('.cache', expire_after = 3600)\n",
        "retry_session = retry(cache_session, retries = 5, backoff_factor = 0.2)\n",
        "openmeteo = openmeteo_requests.Client(session = retry_session)\n",
        "\n",
        "# Make sure all required weather variables are listed here\n",
        "# The order of variables in hourly or daily is important to assign them correctly below\n",
        "url = \"https://archive-api.open-meteo.com/v1/archive\"\n",
        "params = {\n",
        "\t\"latitude\": 1.3521,\n",
        "\t\"longitude\": 103.8198,\n",
        "\t\"start_date\": \"2015-01-01\",\n",
        "\t\"end_date\": \"2024-12-31\",\n",
        "\t\"hourly\": [\"temperature_2m\", \"relative_humidity_2m\", \"wind_speed_10m\"],\n",
        "\t\"timezone\": \"Asia/Singapore\",\n",
        "}\n",
        "responses = openmeteo.weather_api(url, params=params)\n",
        "\n",
        "# Process first location\n",
        "response = responses[0]\n",
        "print(f\"Coordinates: {response.Latitude()}°N {response.Longitude()}°E\")\n",
        "print(f\"Elevation: {response.Elevation()} m asl\")\n",
        "print(f\"Timezone: {response.Timezone()} {response.TimezoneAbbreviation()}\")\n",
        "print(f\"Timezone difference to GMT+0: {response.UtcOffsetSeconds()}s\")\n",
        "\n",
        "# Process hourly data. The order of variables needs to be the same as requested.\n",
        "hourly = response.Hourly()\n",
        "hourly_temperature_2m = hourly.Variables(0).ValuesAsNumpy()\n",
        "hourly_relative_humidity_2m = hourly.Variables(1).ValuesAsNumpy()\n",
        "hourly_wind_speed_10m = hourly.Variables(2).ValuesAsNumpy()\n",
        "\n",
        "hourly_data = {\"date\": pd.date_range(\n",
        "\tstart = pd.to_datetime(hourly.Time(), unit = \"s\", utc = True),\n",
        "\tend = pd.to_datetime(hourly.TimeEnd(), unit = \"s\", utc = True),\n",
        "\tfreq = pd.Timedelta(seconds = hourly.Interval()),\n",
        "\tinclusive = \"left\"\n",
        ")}\n",
        "\n",
        "hourly_data[\"temperature_2m\"] = hourly_temperature_2m\n",
        "hourly_data[\"relative_humidity_2m\"] = hourly_relative_humidity_2m\n",
        "hourly_data[\"wind_speed_10m\"] = hourly_wind_speed_10m\n",
        "\n",
        "# Create DataFrame\n",
        "hourly_dataframe = pd.DataFrame(data = hourly_data)\n",
        "print(\"\\nHourly data sample:\\n\", hourly_dataframe.head())\n"
      ]
    },
    {
      "cell_type": "code",
      "execution_count": 16,
      "metadata": {},
      "outputs": [
        {
          "name": "stdout",
          "output_type": "stream",
          "text": [
            "\n",
            "Daily data sample:\n",
            "          date  temperature_2m  relative_humidity_2m  wind_speed_10m       city\n",
            "0  2014-12-31       24.125750             91.975761       10.464737  Singapore\n",
            "1  2015-01-01       24.621584             88.691841       11.648918  Singapore\n",
            "2  2015-01-02       25.488251             78.113808       14.046573  Singapore\n",
            "3  2015-01-03       25.882002             79.296227       13.742522  Singapore\n",
            "4  2015-01-04       25.804916             80.059166       12.014789  Singapore\n"
          ]
        }
      ],
      "source": [
        "# Convert to daily data by taking average of hourly values for each day\n",
        "hourly_dataframe['date'] = hourly_dataframe['date'].dt.date\n",
        "daily_data = hourly_dataframe.groupby('date').mean()\n",
        "daily_data = daily_data.reset_index()\n",
        "\n",
        "# Add city name column\n",
        "daily_data['city'] = 'Singapore'\n",
        "\n",
        "# Display daily data\n",
        "print(\"\\nDaily data sample:\\n\", daily_data.head())\n"
      ]
    },
    {
      "cell_type": "code",
      "execution_count": null,
      "metadata": {},
      "outputs": [
        {
          "name": "stdout",
          "output_type": "stream",
          "text": [
            "✅ Weather data (2015) saved to: weather_2015.csv - 365 records\n",
            "✅ Weather data (2016) saved to: weather_2016.csv - 366 records\n",
            "✅ Weather data (2017) saved to: weather_2017.csv - 365 records\n",
            "✅ Weather data (2018) saved to: weather_2018.csv - 365 records\n",
            "✅ Weather data (2019) saved to: weather_2019.csv - 365 records\n",
            "✅ Weather data (2020) saved to: weather_2020.csv - 366 records\n",
            "✅ Weather data (2021) saved to: weather_2021.csv - 365 records\n",
            "✅ Weather data (2022) saved to: weather_2022.csv - 365 records\n",
            "✅ Weather data (2023) saved to: weather_2023.csv - 365 records\n",
            "✅ Weather data (2024) saved to: weather_2024.csv - 366 records\n",
            "\n",
            "✅ All weather data (2015-2024) saved successfully!\n"
          ]
        }
      ],
      "source": [
        "# Save complete weather data for 2015-2024\n",
        "import os\n",
        "\n",
        "# Create directory if it doesn't exist\n",
        "os.makedirs(\"/Users/sharin/Downloads/COS30049/Assignment/Assignment_2/COS30049-Computing-Technology-Innovation-Project-by-YSA/data/singapore/raw/weather\", exist_ok=True)\n",
        "\n",
        "# Add date_str column for filtering\n",
        "daily_data['date_str'] = daily_data['date'].astype(str)\n",
        "\n",
        "# Process each year from 2015 to 2024\n",
        "for year in range(2015, 2025):\n",
        "    # Filter data for the specific year\n",
        "    year_data = daily_data[daily_data['date_str'].str.startswith(str(year))].copy()\n",
        "    \n",
        "    if len(year_data) > 0:\n",
        "        # Format the data with all weather columns\n",
        "        weather_data_year = pd.DataFrame({\n",
        "            'date': pd.to_datetime(year_data['date']),\n",
        "            'temperature_2m': year_data['temperature_2m'],\n",
        "            'relative_humidity_2m': year_data['relative_humidity_2m'],\n",
        "            'wind_speed_10m': year_data['wind_speed_10m']\n",
        "        })\n",
        "        \n",
        "        # Save weather data for this year\n",
        "        weather_file_path = f\"/Users/sharin/Downloads/COS30049/Assignment/Assignment_2/COS30049-Computing-Technology-Innovation-Project-by-YSA/data/singapore/raw/weather/weather_{year}.csv\"\n",
        "        weather_data_year.to_csv(weather_file_path, index=False)\n",
        "        \n",
        "        print(f\"Weather data ({year}) saved to: weather_{year}.csv - {len(weather_data_year)} records\")\n",
        "\n",
        "print(f\"\\nAll weather data (2015-2024) saved successfully!\")\n"
      ]
    },
    {
      "cell_type": "code",
      "execution_count": null,
      "metadata": {},
      "outputs": [
        {
          "name": "stdout",
          "output_type": "stream",
          "text": [
            "✅ Air temperature data (2015) saved to: airtemp_2015.csv - 365 records\n",
            "✅ Air temperature data (2016) saved to: airtemp_2016.csv - 366 records\n",
            "✅ Air temperature data (2017) saved to: airtemp_2017.csv - 365 records\n",
            "✅ Air temperature data (2018) saved to: airtemp_2018.csv - 365 records\n",
            "✅ Air temperature data (2019) saved to: airtemp_2019.csv - 365 records\n",
            "✅ Air temperature data (2020) saved to: airtemp_2020.csv - 366 records\n",
            "✅ Air temperature data (2021) saved to: airtemp_2021.csv - 365 records\n",
            "✅ Air temperature data (2022) saved to: airtemp_2022.csv - 365 records\n",
            "✅ Air temperature data (2023) saved to: airtemp_2023.csv - 365 records\n",
            "✅ Air temperature data (2024) saved to: airtemp_2024.csv - 366 records\n",
            "\n",
            "✅ All air temperature data (2015-2024) saved successfully!\n"
          ]
        }
      ],
      "source": [
        "# Save air temperature data for all years 2015-2024\n",
        "import os\n",
        "\n",
        "# Create directory if it doesn't exist\n",
        "os.makedirs(\"/Users/sharin/Downloads/COS30049/Assignment/Assignment_2/COS30049-Computing-Technology-Innovation-Project-by-YSA/data/singapore/raw/air_temperature\", exist_ok=True)\n",
        "\n",
        "# Process each year from 2015 to 2024\n",
        "for year in range(2015, 2025):\n",
        "    # Filter data for the specific year (date_str was already created in previous cell)\n",
        "    year_data = daily_data[daily_data['date_str'].str.startswith(str(year))].copy()\n",
        "    \n",
        "    if len(year_data) > 0:\n",
        "        # Format the data to match the existing air temperature format\n",
        "        temp_data_year = pd.DataFrame({\n",
        "            'timestamp': pd.to_datetime(year_data['date']),\n",
        "            'reading_type': 'DBT 1M F',\n",
        "            'station_name': 'Singapore_National',\n",
        "            'reading_value': year_data['temperature_2m']\n",
        "        })\n",
        "        \n",
        "        # Save temperature data for this year\n",
        "        temp_file_path = f\"/Users/sharin/Downloads/COS30049/Assignment/Assignment_2/COS30049-Computing-Technology-Innovation-Project-by-YSA/data/singapore/raw/air_temperature/airtemp_{year}.csv\"\n",
        "        temp_data_year.to_csv(temp_file_path, index=False)\n",
        "        \n",
        "        print(f\"Air temperature data ({year}) saved to: airtemp_{year}.csv - {len(temp_data_year)} records\")\n",
        "\n",
        "print(f\"\\n All air temperature data (2015-2024) saved successfully!\")\n"
      ]
    }
  ],
  "metadata": {
    "kernelspec": {
      "display_name": ".venv",
      "language": "python",
      "name": "python3"
    },
    "language_info": {
      "codemirror_mode": {
        "name": "ipython",
        "version": 3
      },
      "file_extension": ".py",
      "mimetype": "text/x-python",
      "name": "python",
      "nbconvert_exporter": "python",
      "pygments_lexer": "ipython3",
      "version": "3.13.7"
    }
  },
  "nbformat": 4,
  "nbformat_minor": 2
}
