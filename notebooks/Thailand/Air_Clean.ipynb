{
 "cells": [
  {
   "cell_type": "code",
   "execution_count": 1,
   "metadata": {},
   "outputs": [],
   "source": [
    "import pandas as pd\n",
    "import numpy as np"
   ]
  },
  {
   "cell_type": "code",
   "execution_count": 2,
   "metadata": {},
   "outputs": [],
   "source": [
    "# === 1. Load & prepare ===\n",
    "df = pd.read_csv(\"Chonburi.csv\")\n",
    "df.columns = df.columns.str.strip().str.lower()"
   ]
  },
  {
   "cell_type": "code",
   "execution_count": 3,
   "metadata": {},
   "outputs": [
    {
     "name": "stderr",
     "output_type": "stream",
     "text": [
      "/var/folders/zx/nvjmn_l90z97515sxbwy87hr0000gn/T/ipykernel_11354/3897550003.py:2: UserWarning: Parsing dates in %Y/%m/%d format when dayfirst=True was specified. Pass `dayfirst=False` or specify a format to silence this warning.\n",
      "  df['date'] = pd.to_datetime(df['date'], errors='coerce', dayfirst=True)\n"
     ]
    }
   ],
   "source": [
    "# Convert date to datetime\n",
    "df['date'] = pd.to_datetime(df['date'], errors='coerce', dayfirst=True)\n",
    "df = df.dropna(subset=['date'])\n",
    "df = df.sort_values('date')\n",
    "df['date'] = df['date'].dt.strftime('%d/%m/%Y')\n"
   ]
  },
  {
   "cell_type": "code",
   "execution_count": 4,
   "metadata": {},
   "outputs": [
    {
     "name": "stdout",
     "output_type": "stream",
     "text": [
      "Converted O3 µg/m³ → ppb\n"
     ]
    }
   ],
   "source": [
    "# === Prepare pollutant data ===\n",
    "pollutants = ['pm25', 'pm10', 'o3', 'no2', 'so2', 'co']\n",
    "for p in pollutants:\n",
    "    if p in df.columns:\n",
    "        df[p] = pd.to_numeric(df[p], errors='coerce')\n",
    "\n",
    "# === Convert O3 if in µg/m³ ===\n",
    "if 'o3' in df.columns and df['o3'].max() > 100:\n",
    "    MW = 48.00\n",
    "    df['o3'] = (df['o3'] * 24.45) / MW\n",
    "    print(\"Converted O3 µg/m³ → ppb\")"
   ]
  },
  {
   "cell_type": "code",
   "execution_count": 5,
   "metadata": {},
   "outputs": [],
   "source": [
    "# === AQI breakpoints (EPA) ===\n",
    "breakpoints = {\n",
    "    'pm25': [(0,12,0,50),(12.1,35.4,51,100),(35.5,55.4,101,150),\n",
    "             (55.5,150.4,151,200),(150.5,250.4,201,300),(250.5,350.4,301,400),\n",
    "             (350.5,500.4,401,500)],\n",
    "    'pm10': [(0,54,0,50),(55,154,51,100),(155,254,101,150),\n",
    "             (255,354,151,200),(355,424,201,300),(425,504,301,400),\n",
    "             (505,604,401,500)],\n",
    "    'o3': [(0,54,0,50),(55,70,51,100),(71,85,101,150),(86,105,151,200),\n",
    "           (106,200,201,300)],\n",
    "    'no2': [(0,53,0,50),(54,100,51,100),(101,360,101,150),(361,649,151,200),\n",
    "            (650,1249,201,300),(1250,1649,301,400),(1650,2049,401,500)],\n",
    "    'so2': [(0,35,0,50),(36,75,51,100),(76,185,101,150),(186,304,151,200),\n",
    "            (305,604,201,300),(605,804,301,400),(805,1004,401,500)],\n",
    "    'co':  [(0,4.4,0,50),(4.5,9.4,51,100),(9.5,12.4,101,150),(12.5,15.4,151,200),\n",
    "            (15.5,30.4,201,300),(30.5,40.4,301,400),(40.5,50.4,401,500)]\n",
    "}"
   ]
  },
  {
   "cell_type": "code",
   "execution_count": 6,
   "metadata": {},
   "outputs": [],
   "source": [
    "# === AQI calculation ===\n",
    "def calc_aqi(p, val):\n",
    "    if pd.isna(val) or p not in breakpoints:\n",
    "        return np.nan\n",
    "    for Clow, Chigh, Ilow, Ihigh in breakpoints[p]:\n",
    "        if Clow <= val <= Chigh:\n",
    "            return (Ihigh - Ilow) / (Chigh - Clow) * (val - Clow) + Ilow\n",
    "    return np.nan\n",
    "\n",
    "for p in pollutants:\n",
    "    if p in df.columns:\n",
    "        df[f\"{p}_aqi\"] = df[p].apply(lambda v: calc_aqi(p, v))"
   ]
  },
  {
   "cell_type": "code",
   "execution_count": 7,
   "metadata": {},
   "outputs": [],
   "source": [
    "# === Combine AQI values ===\n",
    "aqi_cols = [f\"{p}_aqi\" for p in pollutants if f\"{p}_aqi\" in df.columns]\n",
    "df['overall_aqi'] = df[aqi_cols].max(axis=1, skipna=True)\n",
    "\n",
    "# Keep only rows with valid date & AQI\n",
    "df = df.dropna(subset=['date', 'overall_aqi'])"
   ]
  },
  {
   "cell_type": "code",
   "execution_count": 8,
   "metadata": {},
   "outputs": [
    {
     "name": "stdout",
     "output_type": "stream",
     "text": [
      "Saved clean file 'Khon_Kaen_AQI.csv' with 3800 rows\n"
     ]
    }
   ],
   "source": [
    "#=== Save clean file ===\n",
    "out = df[['date', 'overall_aqi']].sort_values('date').drop_duplicates(subset=['date'])\n",
    "out.to_csv(\"Pattaya2024.csv\", index=False)\n",
    "\n",
    "print(f\"Saved clean file 'Khon_Kaen_AQI.csv' with {len(out)} rows\")"
   ]
  }
 ],
 "metadata": {
  "kernelspec": {
   "display_name": "base",
   "language": "python",
   "name": "python3"
  },
  "language_info": {
   "codemirror_mode": {
    "name": "ipython",
    "version": 3
   },
   "file_extension": ".py",
   "mimetype": "text/x-python",
   "name": "python",
   "nbconvert_exporter": "python",
   "pygments_lexer": "ipython3",
   "version": "3.9.16"
  },
  "orig_nbformat": 4
 },
 "nbformat": 4,
 "nbformat_minor": 2
}
