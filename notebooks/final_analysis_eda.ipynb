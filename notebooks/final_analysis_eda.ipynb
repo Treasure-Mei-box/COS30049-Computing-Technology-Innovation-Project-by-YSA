{
  "cells": [
    {
      "cell_type": "markdown",
      "metadata": {},
      "source": [
        "# Final Analysis EDA\n",
        "\n",
        "This notebook explores `data/FINAL_ANALYSIS.csv` to understand distributions, trends, correlations, and AQI-weather relationships across countries and regions. Figures are saved to `visualizations/final_analysis/` for the report.\n"
      ]
    },
    {
      "cell_type": "code",
      "execution_count": 11,
      "metadata": {},
      "outputs": [
        {
          "name": "stdout",
          "output_type": "stream",
          "text": [
            "(61581, 12)\n"
          ]
        },
        {
          "data": {
            "text/html": [
              "<div>\n",
              "<style scoped>\n",
              "    .dataframe tbody tr th:only-of-type {\n",
              "        vertical-align: middle;\n",
              "    }\n",
              "\n",
              "    .dataframe tbody tr th {\n",
              "        vertical-align: top;\n",
              "    }\n",
              "\n",
              "    .dataframe thead th {\n",
              "        text-align: right;\n",
              "    }\n",
              "</style>\n",
              "<table border=\"1\" class=\"dataframe\">\n",
              "  <thead>\n",
              "    <tr style=\"text-align: right;\">\n",
              "      <th></th>\n",
              "      <th>Country</th>\n",
              "      <th>Region</th>\n",
              "      <th>Date</th>\n",
              "      <th>AQI</th>\n",
              "      <th>Temperature</th>\n",
              "      <th>RelativeHumidity</th>\n",
              "      <th>WindSpeed</th>\n",
              "      <th>Year</th>\n",
              "      <th>Month</th>\n",
              "      <th>Quarter</th>\n",
              "      <th>MonthName</th>\n",
              "      <th>AQI_Category</th>\n",
              "    </tr>\n",
              "  </thead>\n",
              "  <tbody>\n",
              "    <tr>\n",
              "      <th>0</th>\n",
              "      <td>Singapore</td>\n",
              "      <td>Central</td>\n",
              "      <td>2016-02-07</td>\n",
              "      <td>47.00</td>\n",
              "      <td>25.87</td>\n",
              "      <td>87.26</td>\n",
              "      <td>17.8</td>\n",
              "      <td>2016</td>\n",
              "      <td>2</td>\n",
              "      <td>1</td>\n",
              "      <td>February</td>\n",
              "      <td>Good</td>\n",
              "    </tr>\n",
              "    <tr>\n",
              "      <th>1</th>\n",
              "      <td>Singapore</td>\n",
              "      <td>Central</td>\n",
              "      <td>2016-02-08</td>\n",
              "      <td>57.00</td>\n",
              "      <td>26.26</td>\n",
              "      <td>86.48</td>\n",
              "      <td>16.4</td>\n",
              "      <td>2016</td>\n",
              "      <td>2</td>\n",
              "      <td>1</td>\n",
              "      <td>February</td>\n",
              "      <td>Moderate</td>\n",
              "    </tr>\n",
              "    <tr>\n",
              "      <th>2</th>\n",
              "      <td>Singapore</td>\n",
              "      <td>Central</td>\n",
              "      <td>2016-02-09</td>\n",
              "      <td>57.88</td>\n",
              "      <td>25.97</td>\n",
              "      <td>87.06</td>\n",
              "      <td>9.5</td>\n",
              "      <td>2016</td>\n",
              "      <td>2</td>\n",
              "      <td>1</td>\n",
              "      <td>February</td>\n",
              "      <td>Moderate</td>\n",
              "    </tr>\n",
              "    <tr>\n",
              "      <th>3</th>\n",
              "      <td>Singapore</td>\n",
              "      <td>Central</td>\n",
              "      <td>2016-02-10</td>\n",
              "      <td>54.67</td>\n",
              "      <td>25.68</td>\n",
              "      <td>87.64</td>\n",
              "      <td>12.0</td>\n",
              "      <td>2016</td>\n",
              "      <td>2</td>\n",
              "      <td>1</td>\n",
              "      <td>February</td>\n",
              "      <td>Moderate</td>\n",
              "    </tr>\n",
              "    <tr>\n",
              "      <th>4</th>\n",
              "      <td>Singapore</td>\n",
              "      <td>Central</td>\n",
              "      <td>2016-02-11</td>\n",
              "      <td>32.79</td>\n",
              "      <td>26.36</td>\n",
              "      <td>86.28</td>\n",
              "      <td>11.0</td>\n",
              "      <td>2016</td>\n",
              "      <td>2</td>\n",
              "      <td>1</td>\n",
              "      <td>February</td>\n",
              "      <td>Good</td>\n",
              "    </tr>\n",
              "  </tbody>\n",
              "</table>\n",
              "</div>"
            ],
            "text/plain": [
              "     Country   Region       Date    AQI  Temperature  RelativeHumidity  \\\n",
              "0  Singapore  Central 2016-02-07  47.00        25.87             87.26   \n",
              "1  Singapore  Central 2016-02-08  57.00        26.26             86.48   \n",
              "2  Singapore  Central 2016-02-09  57.88        25.97             87.06   \n",
              "3  Singapore  Central 2016-02-10  54.67        25.68             87.64   \n",
              "4  Singapore  Central 2016-02-11  32.79        26.36             86.28   \n",
              "\n",
              "   WindSpeed  Year  Month  Quarter MonthName AQI_Category  \n",
              "0       17.8  2016      2        1  February         Good  \n",
              "1       16.4  2016      2        1  February     Moderate  \n",
              "2        9.5  2016      2        1  February     Moderate  \n",
              "3       12.0  2016      2        1  February     Moderate  \n",
              "4       11.0  2016      2        1  February         Good  "
            ]
          },
          "execution_count": 11,
          "metadata": {},
          "output_type": "execute_result"
        }
      ],
      "source": [
        "import os\n",
        "import pandas as pd\n",
        "import numpy as np\n",
        "import seaborn as sns\n",
        "import matplotlib.pyplot as plt\n",
        "from pathlib import Path\n",
        "\n",
        "# Configure plotting\n",
        "sns.set(style=\"whitegrid\", context=\"notebook\")\n",
        "plt.rcParams.update({\"figure.dpi\": 140, \"savefig.dpi\": 200})\n",
        "\n",
        "# Paths\n",
        "PROJECT_ROOT = Path(\"/Users/sharin/Downloads/COS30049/Assignment/Assignment_2/COS30049-Computing-Technology-Innovation-Project-by-YSA\")\n",
        "DATA_PATH = PROJECT_ROOT / \"data\" / \"FINAL_ANALYSIS.csv\"\n",
        "VIS_DIR = PROJECT_ROOT / \"visualizations\" / \"final_analysis\"\n",
        "VIS_DIR.mkdir(parents=True, exist_ok=True)\n",
        "\n",
        "# Load data\n",
        "df = pd.read_csv(DATA_PATH, parse_dates=[\"Date\"]) \n",
        "print(df.shape)\n",
        "df.head()\n"
      ]
    },
    {
      "cell_type": "code",
      "execution_count": 12,
      "metadata": {},
      "outputs": [
        {
          "name": "stdout",
          "output_type": "stream",
          "text": [
            "{'rows': 61581, 'columns': 12, 'date_range': (Timestamp('2014-01-01 00:00:00'), Timestamp('2024-12-31 00:00:00')), 'countries': 3, 'regions': 18, 'aqi_categories': {'Good': 28200, 'Moderate': 18867, 'Unhealthy': 8938, 'Unhealthy for Sensitive Groups': 4268, 'Very Unhealthy': 753, 'Unknown': 532, 'Hazardous': 23}}\n",
            "Missingness (fraction):\n",
            "AQI                 0.008639\n",
            "Country             0.000000\n",
            "Region              0.000000\n",
            "Date                0.000000\n",
            "Temperature         0.000000\n",
            "RelativeHumidity    0.000000\n",
            "WindSpeed           0.000000\n",
            "Year                0.000000\n",
            "Month               0.000000\n",
            "Quarter             0.000000\n",
            "MonthName           0.000000\n",
            "AQI_Category        0.000000\n",
            "dtype: float64\n"
          ]
        }
      ],
      "source": [
        "# Basic info and missingness overview\n",
        "summary = {\n",
        "    \"rows\": len(df),\n",
        "    \"columns\": df.shape[1],\n",
        "    \"date_range\": (df[\"Date\"].min(), df[\"Date\"].max()),\n",
        "    \"countries\": df[\"Country\"].nunique(),\n",
        "    \"regions\": df[\"Region\"].nunique(),\n",
        "    \"aqi_categories\": df[\"AQI_Category\"].value_counts().to_dict(),\n",
        "}\n",
        "print(summary)\n",
        "\n",
        "# Compute fraction missing per column robustly\n",
        "missing = (df.isna().sum() / len(df)).sort_values(ascending=False)\n",
        "print(\"Missingness (fraction):\")\n",
        "print(missing)\n",
        "\n",
        "plt.figure(figsize=(8, 4))\n",
        "sns.barplot(x=missing.values, y=missing.index, color=\"#4C78A8\")\n",
        "plt.title(\"Missingness by Column\")\n",
        "plt.xlabel(\"Fraction Missing\")\n",
        "plt.tight_layout()\n",
        "plt.savefig(VIS_DIR / \"00_missingness.png\")\n",
        "plt.close()\n"
      ]
    },
    {
      "cell_type": "code",
      "execution_count": 13,
      "metadata": {},
      "outputs": [],
      "source": [
        "# Numeric distributions\n",
        "numeric_cols = [\"AQI\", \"Temperature\", \"RelativeHumidity\", \"WindSpeed\"]\n",
        "fig, axes = plt.subplots(2, 2, figsize=(10, 7))\n",
        "axes = axes.ravel()\n",
        "for i, col in enumerate(numeric_cols):\n",
        "    sns.histplot(data=df, x=col, kde=True, ax=axes[i], color=\"#72B7B2\")\n",
        "    axes[i].set_title(f\"Distribution of {col}\")\n",
        "plt.tight_layout()\n",
        "plt.savefig(VIS_DIR / \"01_distributions.png\")\n",
        "plt.close()\n"
      ]
    },
    {
      "cell_type": "code",
      "execution_count": 14,
      "metadata": {},
      "outputs": [],
      "source": [
        "# Correlation heatmap\n",
        "numeric_df = df[[\"AQI\", \"Temperature\", \"RelativeHumidity\", \"WindSpeed\"]]\n",
        "corr = numeric_df.corr()\n",
        "plt.figure(figsize=(6, 5))\n",
        "sns.heatmap(corr, annot=True, cmap=\"vlag\", vmin=-1, vmax=1, fmt=\".2f\")\n",
        "plt.title(\"Correlation Heatmap\")\n",
        "plt.tight_layout()\n",
        "plt.savefig(VIS_DIR / \"02_correlation_heatmap.png\")\n",
        "plt.close()\n"
      ]
    },
    {
      "cell_type": "code",
      "execution_count": 15,
      "metadata": {},
      "outputs": [],
      "source": [
        "# Time series trends by country\n",
        "ts_df = df.sort_values(\"Date\").copy()\n",
        "plt.figure(figsize=(10, 5))\n",
        "sns.lineplot(data=ts_df, x=\"Date\", y=\"AQI\", hue=\"Country\")\n",
        "plt.title(\"AQI Over Time by Country\")\n",
        "plt.ylabel(\"AQI\")\n",
        "plt.tight_layout()\n",
        "plt.savefig(VIS_DIR / \"03_time_series_aqi_by_country.png\")\n",
        "plt.close()\n"
      ]
    },
    {
      "cell_type": "code",
      "execution_count": 16,
      "metadata": {},
      "outputs": [],
      "source": [
        "# Yearly and monthly seasonality\n",
        "yearly = df.groupby([\"Country\", \"Year\"], as_index=False)[\"AQI\"].mean()\n",
        "yearly_df = pd.DataFrame(yearly)\n",
        "plt.figure(figsize=(8, 5))\n",
        "sns.lineplot(data=yearly_df, x=\"Year\", y=\"AQI\", hue=\"Country\", marker=\"o\")\n",
        "plt.title(\"Yearly Average AQI by Country\")\n",
        "plt.tight_layout()\n",
        "plt.savefig(VIS_DIR / \"04_yearly_avg_aqi.png\")\n",
        "plt.close()\n",
        "\n",
        "monthly = df.groupby([\"Country\", \"Month\"], as_index=False)[\"AQI\"].mean()\n",
        "monthly_df = pd.DataFrame(monthly)\n",
        "plt.figure(figsize=(8, 5))\n",
        "sns.lineplot(data=monthly_df, x=\"Month\", y=\"AQI\", hue=\"Country\", marker=\"o\")\n",
        "plt.title(\"Monthly Average AQI by Country\")\n",
        "plt.tight_layout()\n",
        "plt.savefig(VIS_DIR / \"05_monthly_avg_aqi.png\")\n",
        "plt.close()\n"
      ]
    },
    {
      "cell_type": "code",
      "execution_count": 17,
      "metadata": {},
      "outputs": [],
      "source": [
        "# Regional comparison boxplots\n",
        "plt.figure(figsize=(10, 6))\n",
        "sns.boxplot(data=df, x=\"Country\", y=\"AQI\", hue=\"Region\")\n",
        "plt.title(\"Regional AQI Distribution by Country\")\n",
        "plt.tight_layout()\n",
        "plt.savefig(VIS_DIR / \"06_regional_boxplots.png\")\n",
        "plt.close()\n"
      ]
    },
    {
      "cell_type": "code",
      "execution_count": 18,
      "metadata": {},
      "outputs": [],
      "source": [
        "# AQI Category distribution by country\n",
        "plt.figure(figsize=(8, 5))\n",
        "sns.countplot(data=df, x=\"Country\", hue=\"AQI_Category\")\n",
        "plt.title(\"AQI Category Distribution by Country\")\n",
        "plt.tight_layout()\n",
        "plt.savefig(VIS_DIR / \"07_aqi_category_by_country.png\")\n",
        "plt.close()\n"
      ]
    },
    {
      "cell_type": "code",
      "execution_count": 19,
      "metadata": {},
      "outputs": [],
      "source": [
        "# Relationships: AQI vs weather\n",
        "fig, axes = plt.subplots(1, 3, figsize=(14, 4))\n",
        "sns.scatterplot(data=df, x=\"Temperature\", y=\"AQI\", hue=\"Country\", ax=axes[0], alpha=0.5)\n",
        "axes[0].set_title(\"AQI vs Temperature\")\n",
        "sns.scatterplot(data=df, x=\"RelativeHumidity\", y=\"AQI\", hue=\"Country\", ax=axes[1], alpha=0.5)\n",
        "axes[1].set_title(\"AQI vs RelativeHumidity\")\n",
        "sns.scatterplot(data=df, x=\"WindSpeed\", y=\"AQI\", hue=\"Country\", ax=axes[2], alpha=0.5)\n",
        "axes[2].set_title(\"AQI vs WindSpeed\")\n",
        "plt.tight_layout()\n",
        "plt.savefig(VIS_DIR / \"08_aqi_vs_weather_scatter.png\")\n",
        "plt.close()\n"
      ]
    },
    {
      "cell_type": "code",
      "execution_count": 20,
      "metadata": {},
      "outputs": [
        {
          "name": "stdout",
          "output_type": "stream",
          "text": [
            "Saved summary and figures to: /Users/sharin/Downloads/COS30049/Assignment/Assignment_2/COS30049-Computing-Technology-Innovation-Project-by-YSA/visualizations/final_analysis\n"
          ]
        }
      ],
      "source": [
        "# Save a compact textual summary for the report\n",
        "summary_lines = []\n",
        "summary_lines.append(f\"Rows: {len(df)}\")\n",
        "summary_lines.append(f\"Date range: {df['Date'].min().date()} to {df['Date'].max().date()}\")\n",
        "summary_lines.append(f\"Countries: {df['Country'].nunique()}, Regions: {df['Region'].nunique()}\")\n",
        "summary_lines.append(\"AQI category counts: \" + df['AQI_Category'].value_counts().to_dict().__repr__())\n",
        "\n",
        "with open(VIS_DIR / \"00_analysis_summary.txt\", \"w\") as f:\n",
        "    f.write(\"\\n\".join(summary_lines))\n",
        "\n",
        "print(\"Saved summary and figures to:\", VIS_DIR)\n"
      ]
    },
    {
      "cell_type": "markdown",
      "metadata": {},
      "source": [
        "## Notes for Model Selection\n",
        "\n",
        "We will decide on models after EDA:\n",
        "- Classification (predicting `AQI_Category`): Logistic Regression, KNN, Random Forest Classifier.\n",
        "- Regression (predicting numeric `AQI`): Linear Regression, Random Forest Regressor.\n",
        "\n",
        "Criteria to choose:\n",
        "- Data linearity and feature correlation (heatmap, scatter plots)\n",
        "- Nonlinear patterns and interactions (favor tree-based models)\n",
        "- Class balance for categories (consider resampling if needed)\n",
        "- Predictive stability across regions/countries (cross-validation by groups)\n",
        "\n"
      ]
    }
  ],
  "metadata": {
    "kernelspec": {
      "display_name": ".venv",
      "language": "python",
      "name": "python3"
    },
    "language_info": {
      "codemirror_mode": {
        "name": "ipython",
        "version": 3
      },
      "file_extension": ".py",
      "mimetype": "text/x-python",
      "name": "python",
      "nbconvert_exporter": "python",
      "pygments_lexer": "ipython3",
      "version": "3.13.7"
    }
  },
  "nbformat": 4,
  "nbformat_minor": 2
}
